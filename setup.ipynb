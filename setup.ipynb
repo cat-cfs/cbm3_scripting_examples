{
 "cells": [
  {
   "cell_type": "markdown",
   "metadata": {},
   "source": [
    "This notebook sets up the tools required for the other notebooks in this dir"
   ]
  },
  {
   "cell_type": "code",
   "execution_count": 4,
   "metadata": {},
   "outputs": [],
   "source": [
    "import os, sys\n",
    "import git\n",
    "from io import BytesIO\n",
    "from urllib.request import urlopen\n",
    "from zipfile import ZipFile"
   ]
  },
  {
   "cell_type": "code",
   "execution_count": 3,
   "metadata": {},
   "outputs": [],
   "source": [
    "def load_standard_import_tool_plugin():\n",
    "    '''\n",
    "    Download the 1.2 release of StandardImportToolPlugin from Github and unzip it locally.\n",
    "    '''\n",
    "    StandardImportToolPluginDir = os.path.join(\".\",\"StandardImportToolPlugin\")\n",
    "    #extra subdir in the archive    \n",
    "    StandardImportToolPluginExe = os.path.join(StandardImportToolPluginDir,\"Release\", \"StandardImportToolPlugin.exe\")\n",
    "    if not os.path.exists(StandardImportToolPluginExe):\n",
    "        resp = urlopen('https://github.com/cat-cfs/StandardImportToolPlugin/releases/download/1.2/Release.zip')\n",
    "        zipfile = ZipFile(BytesIO(resp.read()))\n",
    "\n",
    "        #os.makedirs(StandardImportToolPluginDir)\n",
    "        zipfile.extractall(path=StandardImportToolPluginDir)\n",
    "    return StandardImportToolPluginExe\n",
    "        "
   ]
  },
  {
   "cell_type": "code",
   "execution_count": 4,
   "metadata": {},
   "outputs": [],
   "source": [
    "def load_cbm3_python():\n",
    "    '''\n",
    "    Clone the cbm3_python repository from Github if it does not exist locally already.  \n",
    "    If it does already exist locally do a git pull to get the latest revisions\n",
    "    '''\n",
    "    cbm3_python_dir = os.path.abspath(os.path.join(\".\",\"cbm3_python_git\"))\n",
    "    if not os.path.exists(cbm3_python_dir):\n",
    "        git.Repo.clone_from('https://github.com/cat-cfs/cbm3_python.git', cbm3_python_dir)\n",
    "    else:\n",
    "        g = git.cmd.Git(cbm3_python_dir)\n",
    "        g.pull()\n",
    "    return cbm3_python_dir"
   ]
  },
  {
   "cell_type": "code",
   "execution_count": null,
   "metadata": {},
   "outputs": [],
   "source": []
  }
 ],
 "metadata": {
  "kernelspec": {
   "display_name": "Python 3",
   "language": "python",
   "name": "python3"
  },
  "language_info": {
   "codemirror_mode": {
    "name": "ipython",
    "version": 3
   },
   "file_extension": ".py",
   "mimetype": "text/x-python",
   "name": "python",
   "nbconvert_exporter": "python",
   "pygments_lexer": "ipython3",
   "version": "3.7.1"
  }
 },
 "nbformat": 4,
 "nbformat_minor": 2
}
