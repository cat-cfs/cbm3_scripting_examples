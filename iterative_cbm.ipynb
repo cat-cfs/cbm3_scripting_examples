{
 "cells": [
  {
   "cell_type": "markdown",
   "metadata": {},
   "source": [
    "Example of runnning CBM iteratively. CBM is run for several intervals with an opportunity to adjust disturbance events between each interval.  \n",
    "\n",
    "The script creates a seperate CBM-CFS3 project for each simulation interval and injects the previous simulation state into each subsequent interation.\n",
    "\n",
    "Each interval's CBM-CFS3 project has varying disturbance levels, in this case the script sets the harvest C target to be 5% of each previous iteration's end-of-interval total biomass C."
   ]
  },
  {
   "cell_type": "code",
   "execution_count": 36,
   "metadata": {},
   "outputs": [],
   "source": [
    "import sys, os, json, subprocess\n",
    "import numpy as np\n",
    "import matplotlib.pyplot as plt\n",
    "import pandas as pd\n",
    "%matplotlib inline"
   ]
  },
  {
   "cell_type": "code",
   "execution_count": 37,
   "metadata": {},
   "outputs": [],
   "source": [
    "import sit_helper\n",
    "standard_import_tool_plugin_path=sit_helper.load_standard_import_tool_plugin()\n",
    "import cbm3_python_helper\n",
    "cbm3_python_helper.load_cbm3_python()\n",
    "\n",
    "import cbm3_python.simulation.projectsimulator\n",
    "from cbm3_python.cbm3data import cbm3_results\n",
    "from cbm3_python.cbm3data.aidb import AIDB\n",
    "from cbm3_python.cbm3data.accessdb import AccessDB\n",
    "from cbm3_python.cbm3data.projectdb import ProjectDB\n",
    "from cbm3_python.simulation.simulator import Simulator\n",
    "from cbm3_python.cbm3data import cbm3_results"
   ]
  },
  {
   "cell_type": "code",
   "execution_count": 38,
   "metadata": {},
   "outputs": [],
   "source": [
    "local_working_dir = os.path.abspath(\".\")\n",
    "toolbox_path = r'C:\\Program Files (x86)\\Operational-Scale CBM-CFS3'\n",
    "aidb_path=os.path.join(toolbox_path, \"admin\", \"dbs\", \"ArchiveIndex_Beta_Install.mdb\")\n",
    "cbm_exe_path=os.path.join(toolbox_path, \"admin\", \"executables\")\n",
    "cbm_wd = os.path.join(toolbox_path, \"temp\")\n",
    "\n",
    "#the number of steps in each iteration\n",
    "iteration_steps = 10\n",
    "#the number of iterations\n",
    "num_iterations = 5"
   ]
  },
  {
   "cell_type": "markdown",
   "metadata": {},
   "source": [
    "The following methods inject disturbances and transition rules into the iteration import function."
   ]
  },
  {
   "cell_type": "code",
   "execution_count": 39,
   "metadata": {},
   "outputs": [],
   "source": [
    "def create_event_factory(events):\n",
    "    def factory(config):\n",
    "        for e in events:\n",
    "            config.add_event(**e)\n",
    "    return factory\n",
    "            \n",
    "def create_transition_rule_factory(transitions):\n",
    "    def factory(config):\n",
    "        for t in transitions:\n",
    "            config.add_transition_rule(**t)\n",
    "    return factory"
   ]
  },
  {
   "cell_type": "markdown",
   "metadata": {},
   "source": [
    "Updates the number of timesteps to run for the given CBM project (AccessDB instance)"
   ]
  },
  {
   "cell_type": "code",
   "execution_count": 40,
   "metadata": {},
   "outputs": [],
   "source": [
    "def set_project_run_length(proj, n_steps):\n",
    "    proj.ExecuteQuery(\"UPDATE tblRunTableDetails SET tblRunTableDetails.RunLength = ?\", n_steps)"
   ]
  },
  {
   "cell_type": "markdown",
   "metadata": {},
   "source": [
    "Path helper functions"
   ]
  },
  {
   "cell_type": "code",
   "execution_count": 41,
   "metadata": {},
   "outputs": [],
   "source": [
    "def get_project_path(iteration_num):\n",
    "    return os.path.join(local_working_dir, \"iterative_cbm\", \"iterative_cbm_{}.mdb\".format(iteration_num))\n",
    "\n",
    "def get_results_db_path(iteration_num):\n",
    "    return os.path.join(local_working_dir, \"iterative_cbm\", \"iterative_cbm_results_{}.mdb\".format(iteration_num))\n",
    "\n",
    "def get_config_save_path(iteration_num):\n",
    "    return os.path.join(local_working_dir, \"iterative_cbm\", \"iterative_cbm_config_{}.json\".format(iteration_num))\n",
    "\n",
    "def get_iteration_tempfiles_dir(iteration_num):\n",
    "    return os.path.join(local_working_dir, \"iterative_cbm\", \"iterative_cbm_tempfiles_{}\".format(iteration_num))"
   ]
  },
  {
   "cell_type": "markdown",
   "metadata": {},
   "source": [
    "Sets up and imports a constant SIT inventory with varying events and transition rules at the specified path"
   ]
  },
  {
   "cell_type": "code",
   "execution_count": 42,
   "metadata": {},
   "outputs": [],
   "source": [
    "def iteration_import(project_path, config_save_path, events_factory, transition_factory):\n",
    "\n",
    "\n",
    "    c = sit_helper.SITConfig(\n",
    "        imported_project_path=project_path,\n",
    "        initialize_mapping=True\n",
    "    )\n",
    "    c.data_config(\n",
    "        age_class_size=5,\n",
    "        num_age_classes=14,\n",
    "        classifiers=[\"admin\", \"eco\", \"Leading Species\", \"Land Cover\"])\n",
    "\n",
    "    c.set_admin_eco_mapping(\"admin\",\"eco\")\n",
    "    c.set_species_classifier(\"Leading Species\")\n",
    "    c.map_species(\"Nonforest\", \"Not stocked\")\n",
    "\n",
    "    c.add_inventory(classifier_set=[\"British Columbia\", \"Boreal Cordillera\", \"Luvisolic (W. Canada)\", \"Nonforest\"],\n",
    "                    area=100, age=0, unfccc_land_class=1)\n",
    "    c.add_inventory(classifier_set=[\"British Columbia\", \"Boreal Plains\", \"Luvisolic (W. Canada)\", \"Nonforest\"],\n",
    "                    area=100, age=0, unfccc_land_class=1)\n",
    "    c.add_inventory(classifier_set=[\"British Columbia\", \"Taiga Plains\", \"Luvisolic (W. Canada)\", \"Nonforest\"],\n",
    "                    area=100, age=0, unfccc_land_class=1)\n",
    "    c.add_inventory(classifier_set=[\"British Columbia\", \"Pacific Maritime\", \"Luvisolic (W. Canada)\", \"Nonforest\"],\n",
    "                    area=100, age=0, unfccc_land_class=1)\n",
    "    c.add_inventory(classifier_set=[\"British Columbia\", \"Montane Cordillera\", \"Luvisolic (W. Canada)\", \"Nonforest\"],\n",
    "                    area=100, age=0, unfccc_land_class=1)\n",
    "    \n",
    "    c.add_inventory(classifier_set=[\"British Columbia\", \"Boreal Cordillera\", \"Spruce\", \"Forest Only\"],\n",
    "                    area=1000, age=50, unfccc_land_class=0,\n",
    "                    historic_disturbance=\"Wildfire\", last_pass_disturbance=\"Wildfire\")\n",
    "    c.add_inventory(classifier_set=[\"British Columbia\", \"Boreal Plains\", \"Spruce\", \"Forest Only\"],\n",
    "                    area=1000, age=50, unfccc_land_class=0,\n",
    "                    historic_disturbance=\"Wildfire\", last_pass_disturbance=\"Wildfire\")\n",
    "    c.add_inventory(classifier_set=[\"British Columbia\", \"Taiga Plains\", \"Spruce\", \"Forest Only\"],\n",
    "                    area=1000, age=50, unfccc_land_class=0,\n",
    "                    historic_disturbance=\"Wildfire\", last_pass_disturbance=\"Wildfire\")\n",
    "    c.add_inventory(classifier_set=[\"British Columbia\", \"Pacific Maritime\", \"Spruce\", \"Forest Only\"],\n",
    "                    area=1000, age=50, unfccc_land_class=0,\n",
    "                    historic_disturbance=\"Wildfire\", last_pass_disturbance=\"Wildfire\")\n",
    "    c.add_inventory(classifier_set=[\"British Columbia\", \"Montane Cordillera\", \"Spruce\", \"Forest Only\"],\n",
    "                    area=1000, age=50, unfccc_land_class=0,\n",
    "                    historic_disturbance=\"Wildfire\", last_pass_disturbance=\"Wildfire\")\n",
    "\n",
    "    growth_curve_data = [0,0,0,27,84,155,217,271,317,353,382,406,426,426]\n",
    "\n",
    "    not_stocked_growth = [0.0]*len(growth_curve_data)\n",
    "\n",
    "    c.add_yield(classifier_set=[\"?\",\"?\",\"?\",\"Nonforest\"],\n",
    "                leading_species_classifier_value=\"Not stocked\",\n",
    "                values=not_stocked_growth)\n",
    "\n",
    "    c.add_yield(classifier_set=[\"?\",\"?\",\"Red pine\",\"Forest Only\"], \n",
    "                leading_species_classifier_value=\"Red pine\", values=growth_curve_data)\n",
    "    \n",
    "    c.add_yield(classifier_set=[\"?\",\"?\",\"Spruce\",\"Forest Only\"], \n",
    "                leading_species_classifier_value=\"Spruce\", values=growth_curve_data)\n",
    "    \n",
    "    events_factory(c)\n",
    "    transition_factory(c)\n",
    "    \n",
    "    c.import_project(standard_import_tool_plugin_path, config_save_path)\n",
    "\n",
    "    "
   ]
  },
  {
   "cell_type": "markdown",
   "metadata": {},
   "source": [
    "Set up the first iteration.  This is a typical CBM run the since the stand initialization routine (Makelist) is run to estimate initial forest conditions.\n"
   ]
  },
  {
   "cell_type": "code",
   "execution_count": 43,
   "metadata": {},
   "outputs": [],
   "source": [
    "events = [\n",
    "    {\n",
    "    \"classifier_set\": [\"?\",\"?\",\"?\",\"?\"],\n",
    "    \"disturbance_type\": \"Afforestation\", \n",
    "    \"time_step\": 1, \n",
    "    \"target\": 100,\n",
    "    \"target_type\": \"Area\",\n",
    "    \"sort\": \"SORT_BY_SW_AGE\"\n",
    "    }\n",
    "]\n",
    "transitions = [\n",
    "    {\n",
    "    \"classifier_set_source\": [\"?\",\"?\",\"?\",\"?\"],\n",
    "    \"classifier_set_target\": [\"?\",\"?\",\"Red pine\",\"Forest Only\"],\n",
    "    \"disturbance_type\": \"Afforestation\",\n",
    "    \"percent\": 100\n",
    "    }\n",
    "]\n",
    "\n",
    "iteration_num = 1\n",
    "project_path = get_project_path(iteration_num)\n",
    "tempfiles_dir = get_iteration_tempfiles_dir(iteration_num)\n",
    "results_db_path = get_results_db_path(iteration_num)\n",
    "\n",
    "iteration_import(\n",
    "    project_path,\n",
    "    get_config_save_path(iteration_num),\n",
    "    create_event_factory(events),\n",
    "    create_transition_rule_factory(transitions))"
   ]
  },
  {
   "cell_type": "code",
   "execution_count": 44,
   "metadata": {},
   "outputs": [],
   "source": [
    "with AIDB(aidb_path, False) as aidb, \\\n",
    "     AccessDB(project_path, False) as proj:\n",
    "\n",
    "    set_project_run_length(proj, iteration_steps)\n",
    "    simId = aidb.AddProjectToAIDB(proj)\n",
    "    s = Simulator(cbm_exe_path,\n",
    "                simId,\n",
    "                os.path.dirname(project_path),\n",
    "                cbm_wd,\n",
    "                toolbox_path)\n",
    "    \n",
    "\n",
    "    s.CleanupRunDirectory()\n",
    "    s.CreateMakelistFiles()\n",
    "    s.copyMakelist()\n",
    "    s.runMakelist()\n",
    "    s.loadMakelistSVLS()\n",
    "    s.DumpMakelistSVLs()\n",
    "    s.CreateCBMFiles()\n",
    "    s.CopyCBMExecutable()\n",
    "    s.RunCBM()\n",
    "    s.CopyTempFiles(output_dir=tempfiles_dir)\n",
    "    s.LoadCBMResults(output_path = results_db_path)"
   ]
  },
  {
   "cell_type": "markdown",
   "metadata": {},
   "source": [
    "now run subsequent iterations"
   ]
  },
  {
   "cell_type": "code",
   "execution_count": 45,
   "metadata": {},
   "outputs": [],
   "source": [
    "\n",
    "for i in range(2,num_iterations+1):\n",
    "    iteration_num = i\n",
    "    project_path = get_project_path(iteration_num)\n",
    "    tempfiles_dir = get_iteration_tempfiles_dir(iteration_num)\n",
    "    results_db_path = get_results_db_path(iteration_num)\n",
    "\n",
    "    #get the total biomass from a previous iteration\n",
    "    total_biomass = cbm3_results.load_pool_indicators( get_results_db_path(i-1))[\"Total Biomass\"][-1:].values[0]\n",
    "    #set the target to 5% of the total biomass from the previous iteration\n",
    "    targetC = total_biomass * 0.05\n",
    "    \n",
    "    #create a series of events (divided by the number of iterations)\n",
    "    events = [\n",
    "        {\n",
    "        \"classifier_set\": [\"?\",\"?\",\"?\",\"?\"],\n",
    "        \"disturbance_type\": \"Clear-cut with slash-burn\", \n",
    "        \"time_step\": x+1, \n",
    "        \"target\": targetC/iteration_steps,\n",
    "        \"target_type\": \"Merchantable\",\n",
    "        \"sort\": \"MERCHCSORT_TOTAL\"\n",
    "        } for x in range(iteration_steps)\n",
    "    ]\n",
    "    \n",
    "    #import the project with new disturbance events\n",
    "    iteration_import(\n",
    "        project_path,\n",
    "        get_config_save_path(iteration_num),\n",
    "        create_event_factory(events),\n",
    "        create_transition_rule_factory([]))\n",
    "    \n",
    "    with AIDB(aidb_path, False) as aidb, \\\n",
    "         AccessDB(project_path, False) as proj:\n",
    "\n",
    "        proj.ExecuteQuery(\"UPDATE tblRunTableDetails SET tblRunTableDetails.RunLength = ?\", iteration_steps)\n",
    "        simId = aidb.AddProjectToAIDB(proj)\n",
    "        s = Simulator(cbm_exe_path,\n",
    "                    simId,\n",
    "                    os.path.dirname(project_path),\n",
    "                    cbm_wd,\n",
    "                    toolbox_path)\n",
    "\n",
    "        s.CleanupRunDirectory()\n",
    "        s.CopyToWorkingDir(project_path)\n",
    "        s.CreateCBMFiles()\n",
    "        s.CopyCBMExecutable()\n",
    "        s.CopySVLFromPreviousRun(os.path.join(get_iteration_tempfiles_dir(i-1),\"CBMRun\",\"output\"))\n",
    "        s.RunCBM()\n",
    "        s.CopyTempFiles(output_dir=tempfiles_dir)\n",
    "        s.LoadCBMResults(output_path = results_db_path)\n",
    "   "
   ]
  },
  {
   "cell_type": "code",
   "execution_count": 47,
   "metadata": {},
   "outputs": [
    {
     "data": {
      "text/plain": [
       "0     743087.000000\n",
       "1     750480.858243\n",
       "2     757862.770354\n",
       "3     765233.164056\n",
       "4     772562.099311\n",
       "5     779895.401373\n",
       "6     785996.818458\n",
       "7     792089.588088\n",
       "8     798173.813222\n",
       "9     804249.499984\n",
       "10    810316.732337\n",
       "Name: Total Biomass, dtype: float64"
      ]
     },
     "execution_count": 47,
     "metadata": {},
     "output_type": "execute_result"
    }
   ],
   "source": [
    "cbm3_results.load_pool_indicators( get_results_db_path(1))[\"Total Biomass\"]\n",
    "    "
   ]
  },
  {
   "cell_type": "code",
   "execution_count": 48,
   "metadata": {},
   "outputs": [
    {
     "data": {
      "text/plain": [
       "0     810316.732337\n",
       "1     802237.004302\n",
       "2     794169.502587\n",
       "3     786124.616734\n",
       "4     778113.603189\n",
       "5     770148.304355\n",
       "6     762240.945831\n",
       "7     754403.977446\n",
       "8     746649.929591\n",
       "9     738991.303995\n",
       "10    731440.457664\n",
       "Name: Total Biomass, dtype: float64"
      ]
     },
     "execution_count": 48,
     "metadata": {},
     "output_type": "execute_result"
    }
   ],
   "source": [
    "cbm3_results.load_pool_indicators( get_results_db_path(2))[\"Total Biomass\"]\n",
    "    "
   ]
  },
  {
   "cell_type": "code",
   "execution_count": 49,
   "metadata": {},
   "outputs": [
    {
     "data": {
      "text/plain": [
       "0     731440.495758\n",
       "1     724796.002726\n",
       "2     718281.942047\n",
       "3     711908.608427\n",
       "4     705685.690527\n",
       "5     699622.191923\n",
       "6     693726.421726\n",
       "7     688005.908232\n",
       "8     682467.382662\n",
       "9     677116.726110\n",
       "10    671583.667819\n",
       "Name: Total Biomass, dtype: float64"
      ]
     },
     "execution_count": 49,
     "metadata": {},
     "output_type": "execute_result"
    }
   ],
   "source": [
    "cbm3_results.load_pool_indicators( get_results_db_path(3))[\"Total Biomass\"]"
   ]
  },
  {
   "cell_type": "code",
   "execution_count": 50,
   "metadata": {},
   "outputs": [
    {
     "data": {
      "text/plain": [
       "0     671583.598747\n",
       "1     665885.389268\n",
       "2     660412.548809\n",
       "3     655176.245154\n",
       "4     650184.805465\n",
       "5     645444.165818\n",
       "6     640958.107340\n",
       "7     636728.417403\n",
       "8     632755.072670\n",
       "9     629036.339889\n",
       "10    625568.937545\n",
       "Name: Total Biomass, dtype: float64"
      ]
     },
     "execution_count": 50,
     "metadata": {},
     "output_type": "execute_result"
    }
   ],
   "source": [
    "cbm3_results.load_pool_indicators( get_results_db_path(4))[\"Total Biomass\"]"
   ]
  },
  {
   "cell_type": "code",
   "execution_count": 51,
   "metadata": {},
   "outputs": [
    {
     "data": {
      "text/plain": [
       "0     625568.967327\n",
       "1     622898.860878\n",
       "2     620486.212930\n",
       "3     618288.723804\n",
       "4     616302.846239\n",
       "5     614524.701217\n",
       "6     612922.280183\n",
       "7     611474.386507\n",
       "8     610136.094530\n",
       "9     608912.829509\n",
       "10    607820.638698\n",
       "Name: Total Biomass, dtype: float64"
      ]
     },
     "execution_count": 51,
     "metadata": {},
     "output_type": "execute_result"
    }
   ],
   "source": [
    "cbm3_results.load_pool_indicators( get_results_db_path(5))[\"Total Biomass\"]"
   ]
  },
  {
   "cell_type": "code",
   "execution_count": 53,
   "metadata": {},
   "outputs": [
    {
     "data": {
      "text/plain": [
       "<matplotlib.axes._subplots.AxesSubplot at 0x115264e0>"
      ]
     },
     "execution_count": 53,
     "metadata": {},
     "output_type": "execute_result"
    },
    {
     "data": {
      "image/png": "[encoded data removed]",
      "text/plain": [
       "<Figure size 432x288 with 1 Axes>"
      ]
     },
     "metadata": {
      "needs_background": "light"
     },
     "output_type": "display_data"
    }
   ],
   "source": [
    "dist_indicators = cbm3_results.load_disturbance_indicators(\n",
    "    get_results_db_path(5), \n",
    "    disturbance_type_grouping=True)\n",
    "\n",
    "p = dist_indicators.loc[dist_indicators[\"DistTypeID\"]==2][[\"TimeStep\",\"Product\"]].groupby(\"TimeStep\").sum()\n",
    "p.plot(ylim=(0,10000))"
   ]
  },
  {
   "cell_type": "code",
   "execution_count": null,
   "metadata": {},
   "outputs": [],
   "source": []
  }
 ],
 "metadata": {
  "kernelspec": {
   "display_name": "Python 3",
   "language": "python",
   "name": "python3"
  },
  "language_info": {
   "codemirror_mode": {
    "name": "ipython",
    "version": 3
   },
   "file_extension": ".py",
   "mimetype": "text/x-python",
   "name": "python",
   "nbconvert_exporter": "python",
   "pygments_lexer": "ipython3",
   "version": "3.7.1"
  }
 },
 "nbformat": 4,
 "nbformat_minor": 2
}
