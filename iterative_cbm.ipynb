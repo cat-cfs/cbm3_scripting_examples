{
 "cells": [
  {
   "cell_type": "code",
   "execution_count": 62,
   "metadata": {},
   "outputs": [],
   "source": [
    "import sys, os, json, subprocess\n",
    "import numpy as np\n",
    "import matplotlib.pyplot as plt\n",
    "import pandas as pd\n",
    "%matplotlib inline"
   ]
  },
  {
   "cell_type": "code",
   "execution_count": 63,
   "metadata": {},
   "outputs": [],
   "source": [
    "import sit_helper\n",
    "standard_import_tool_plugin_path=sit_helper.load_standard_import_tool_plugin()\n",
    "import cbm3_python_helper\n",
    "cbm3_python_helper.load_cbm3_python()\n",
    "import cbm3_python.simulation.projectsimulator\n",
    "from cbm3_python.cbm3data import cbm3_results\n",
    "from cbm3_python.cbm3data.aidb import AIDB\n",
    "from cbm3_python.cbm3data.accessdb import AccessDB\n",
    "from cbm3_python.cbm3data.projectdb import ProjectDB\n",
    "from cbm3_python.simulation.simulator import Simulator"
   ]
  },
  {
   "cell_type": "code",
   "execution_count": 64,
   "metadata": {},
   "outputs": [],
   "source": [
    "local_working_dir = os.path.abspath(\".\")\n",
    "toolbox_path = r'C:\\Program Files (x86)\\Operational-Scale CBM-CFS3'\n",
    "aidb_path=os.path.join(toolbox_path, \"admin\", \"dbs\", \"ArchiveIndex_Beta_Install.mdb\")\n",
    "cbm_exe_path=os.path.join(toolbox_path, \"admin\", \"executables\")\n",
    "cbm_wd = os.path.join(toolbox_path, \"temp\")"
   ]
  },
  {
   "cell_type": "code",
   "execution_count": 65,
   "metadata": {},
   "outputs": [],
   "source": [
    "def create_event_factory(events):\n",
    "    def factory(config):\n",
    "        for e in events:\n",
    "            config.add_event(**e)\n",
    "    return factory\n",
    "            \n",
    "def create_transition_rule_factory(transitions):\n",
    "    def factory(config):\n",
    "        for t in transitions:\n",
    "            config.add_transition_rule(**t)\n",
    "    return factory"
   ]
  },
  {
   "cell_type": "code",
   "execution_count": 66,
   "metadata": {},
   "outputs": [],
   "source": [
    "def iteration_import(project_path, config_save_path, events_factory, transition_factory):\n",
    "\n",
    "\n",
    "    c = sit_helper.SITConfig(\n",
    "        imported_project_path=project_path,\n",
    "        initialize_mapping=True\n",
    "    )\n",
    "    c.data_config(\n",
    "        age_class_size=5,\n",
    "        num_age_classes=14,\n",
    "        classifiers=[\"Stand ID\", \"Leading Species\", \"Land Cover\"])\n",
    "\n",
    "    c.set_single_spatial_unit(17)\n",
    "    c.set_species_classifier(\"Leading Species\")\n",
    "    c.map_species(\"Nonforest\", \"Not stocked\")\n",
    "\n",
    "    c.add_inventory(classifier_set=[\"Stand 1\", \"Luvisolic (E. Canada)\", \"Nonforest\"],\n",
    "                    area=100, age=0, unfccc_land_class=1)\n",
    "    c.add_inventory(classifier_set=[\"Stand 2\", \"Spruce\", \"Forest Only\"],\n",
    "                    area=1000, age=0, unfccc_land_class=0,\n",
    "                   historic_disturbance=\"Wildfire\", last_pass_disturbance=\"Wildfire\")\n",
    "\n",
    "    growth_curve_data = [0,0,0,27,84,155,217,271,317,353,382,406,426,426]\n",
    "\n",
    "    not_stocked_growth = [0.0]*len(growth_curve_data)\n",
    "\n",
    "    c.add_yield(classifier_set=[\"?\",\"?\",\"Nonforest\"],\n",
    "                leading_species_classifier_value=\"Not stocked\",\n",
    "                values=not_stocked_growth)\n",
    "\n",
    "    c.add_yield(classifier_set=[\"?\",\"Red pine\",\"Forest Only\"], \n",
    "                leading_species_classifier_value=\"Red pine\", values=growth_curve_data)\n",
    "    \n",
    "    c.add_yield(classifier_set=[\"?\",\"Spruce\",\"Forest Only\"], \n",
    "                leading_species_classifier_value=\"Spruce\", values=growth_curve_data)\n",
    "    \n",
    "    events_factory(c)\n",
    "    transition_factory(c)\n",
    "    \n",
    "    c.import_project(standard_import_tool_plugin_path, config_save_path)\n",
    "\n",
    "    "
   ]
  },
  {
   "cell_type": "code",
   "execution_count": 67,
   "metadata": {},
   "outputs": [],
   "source": [
    "def get_project_path(iteration_num):\n",
    "    return os.path.join(local_working_dir, \"iterative_cbm\", \"iterative_cbm_{}.mdb\".format(iteration_num))\n",
    "\n",
    "def get_results_db_path(iteration_num):\n",
    "    return os.path.join(local_working_dir, \"iterative_cbm\", \"iterative_cbm_results_{}.mdb\".format(iteration_num))\n",
    "\n",
    "def get_config_save_path(iteration_num):\n",
    "    return os.path.join(local_working_dir, \"iterative_cbm\", \"iterative_cbm_config_{}.mdb\".format(iteration_num))\n",
    "\n",
    "def get_iteration_tempfiles_dir(iteration_num):\n",
    "    return os.path.join(local_working_dir, \"iterative_cbm\", \"iterative_cbm_tempfiles_{}.mdb\".format(iteration_num))\n"
   ]
  },
  {
   "cell_type": "code",
   "execution_count": 68,
   "metadata": {},
   "outputs": [],
   "source": [
    "events = [\n",
    "    {\n",
    "    \"classifier_set\": [\"?\",\"?\",\"?\"],\n",
    "    \"disturbance_type\": \"Afforestation\", \n",
    "    \"time_step\": 1, \n",
    "    \"target\": 100,\n",
    "    \"target_type\": \"Area\",\n",
    "    \"sort\": \"SORT_BY_SW_AGE\"\n",
    "    }\n",
    "]\n",
    "transitions = [\n",
    "    {\n",
    "    \"classifier_set_source\": [\"?\",\"?\",\"?\"],\n",
    "    \"classifier_set_target\": [\"?\",\"Red pine\",\"Forest Only\"],\n",
    "    \"disturbance_type\": \"Afforestation\",\n",
    "    \"percent\": 100\n",
    "    }\n",
    "]\n",
    "\n",
    "iteration_num = 1\n",
    "project_path = get_project_path(iteration_num)\n",
    "tempfiles_dir = get_iteration_tempfiles_dir(iteration_num)\n",
    "results_db_path = get_results_db_path(iteration_num)\n",
    "\n",
    "iteration_import(\n",
    "    project_path,\n",
    "    get_config_save_path(iteration_num),\n",
    "    create_event_factory(events),\n",
    "    create_transition_rule_factory(transitions))\n",
    "\n"
   ]
  },
  {
   "cell_type": "code",
   "execution_count": 69,
   "metadata": {},
   "outputs": [],
   "source": [
    "with AIDB(aidb_path, False) as aidb, \\\n",
    "     AccessDB(project_path, False) as proj:\n",
    "\n",
    "    \n",
    "    simId = aidb.AddProjectToAIDB(proj)\n",
    "    s = Simulator(cbm_exe_path,\n",
    "                simId,\n",
    "                os.path.dirname(project_path),\n",
    "                cbm_wd,\n",
    "                toolbox_path)\n",
    "    \n",
    "\n",
    "    s.CleanupRunDirectory()\n",
    "    s.CreateMakelistFiles()\n",
    "    s.copyMakelist()\n",
    "    s.runMakelist()\n",
    "    s.loadMakelistSVLS()\n",
    "    s.DumpMakelistSVLs()\n",
    "    s.CreateCBMFiles()\n",
    "    s.CopyCBMExecutable()\n",
    "    s.RunCBM()\n",
    "    s.CopyTempFiles(output_dir=tempfiles_dir)\n",
    "    s.LoadCBMResults(output_path = results_db_path)"
   ]
  },
  {
   "cell_type": "code",
   "execution_count": null,
   "metadata": {},
   "outputs": [],
   "source": []
  }
 ],
 "metadata": {
  "kernelspec": {
   "display_name": "Python 3",
   "language": "python",
   "name": "python3"
  },
  "language_info": {
   "codemirror_mode": {
    "name": "ipython",
    "version": 3
   },
   "file_extension": ".py",
   "mimetype": "text/x-python",
   "name": "python",
   "nbconvert_exporter": "python",
   "pygments_lexer": "ipython3",
   "version": "3.7.1"
  }
 },
 "nbformat": 4,
 "nbformat_minor": 2
}
