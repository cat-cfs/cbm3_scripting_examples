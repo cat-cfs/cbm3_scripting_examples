{
 "cells": [
  {
   "cell_type": "markdown",
   "metadata": {},
   "source": [
    "Example of runnning CBM iteratively. CBM is run for several intervals with an opportunity to adjust disturbance events between each interval.  \n",
    "\n",
    "The script creates a seperate CBM-CFS3 project for each simulation interval and injects the previous simulation state into each subsequent interation.\n",
    "\n",
    "Each interval's CBM-CFS3 project has varying disturbance levels, in this case the script sets the harvest C target to be 5% of each previous iteration's end-of-interval total biomass C."
   ]
  },
  {
   "cell_type": "code",
   "execution_count": 14,
   "metadata": {},
   "outputs": [],
   "source": [
    "import sys, os, json, subprocess\n",
    "import numpy as np\n",
    "import matplotlib.pyplot as plt\n",
    "import pandas as pd\n",
    "%matplotlib inline"
   ]
  },
  {
   "cell_type": "code",
   "execution_count": 15,
   "metadata": {},
   "outputs": [],
   "source": [
    "import sit_helper\n",
    "standard_import_tool_plugin_path=sit_helper.load_standard_import_tool_plugin()\n",
    "import cbm3_python_helper\n",
    "cbm3_python_helper.load_cbm3_python()\n",
    "\n",
    "import cbm3_python.simulation.projectsimulator\n",
    "from cbm3_python.cbm3data import cbm3_results\n",
    "from cbm3_python.cbm3data.aidb import AIDB\n",
    "from cbm3_python.cbm3data.accessdb import AccessDB\n",
    "from cbm3_python.cbm3data.projectdb import ProjectDB\n",
    "from cbm3_python.simulation.simulator import Simulator\n",
    "from cbm3_python.cbm3data import cbm3_results"
   ]
  },
  {
   "cell_type": "code",
   "execution_count": 16,
   "metadata": {},
   "outputs": [],
   "source": [
    "local_working_dir = os.path.abspath(\".\")\n",
    "toolbox_path = r'C:\\Program Files (x86)\\Operational-Scale CBM-CFS3'\n",
    "aidb_path=os.path.join(toolbox_path, \"admin\", \"dbs\", \"ArchiveIndex_Beta_Install.mdb\")\n",
    "cbm_exe_path=os.path.join(toolbox_path, \"admin\", \"executables\")\n",
    "cbm_wd = os.path.join(toolbox_path, \"temp\")\n",
    "\n",
    "#the number of steps in each iteration\n",
    "iteration_steps = 10\n",
    "num_iterations = 5"
   ]
  },
  {
   "cell_type": "markdown",
   "metadata": {},
   "source": [
    "The following methods inject disturbances and transition rules into the iteration import function."
   ]
  },
  {
   "cell_type": "code",
   "execution_count": 17,
   "metadata": {},
   "outputs": [],
   "source": [
    "def create_event_factory(events):\n",
    "    def factory(config):\n",
    "        for e in events:\n",
    "            config.add_event(**e)\n",
    "    return factory\n",
    "            \n",
    "def create_transition_rule_factory(transitions):\n",
    "    def factory(config):\n",
    "        for t in transitions:\n",
    "            config.add_transition_rule(**t)\n",
    "    return factory"
   ]
  },
  {
   "cell_type": "markdown",
   "metadata": {},
   "source": [
    "Updates the number of timesteps to run for the given CBM project (AccessDB instance)"
   ]
  },
  {
   "cell_type": "code",
   "execution_count": 35,
   "metadata": {},
   "outputs": [],
   "source": [
    "def set_project_run_length(proj, n_steps):\n",
    "    proj.ExecuteQuery(\"UPDATE tblRunTableDetails SET tblRunTableDetails.RunLength = ?\", n_steps)"
   ]
  },
  {
   "cell_type": "markdown",
   "metadata": {},
   "source": [
    "Path helper functions"
   ]
  },
  {
   "cell_type": "code",
   "execution_count": 33,
   "metadata": {},
   "outputs": [],
   "source": [
    "def get_project_path(iteration_num):\n",
    "    return os.path.join(local_working_dir, \"iterative_cbm\", \"iterative_cbm_{}.mdb\".format(iteration_num))\n",
    "\n",
    "def get_results_db_path(iteration_num):\n",
    "    return os.path.join(local_working_dir, \"iterative_cbm\", \"iterative_cbm_results_{}.mdb\".format(iteration_num))\n",
    "\n",
    "def get_config_save_path(iteration_num):\n",
    "    return os.path.join(local_working_dir, \"iterative_cbm\", \"iterative_cbm_config_{}.json\".format(iteration_num))\n",
    "\n",
    "def get_iteration_tempfiles_dir(iteration_num):\n",
    "    return os.path.join(local_working_dir, \"iterative_cbm\", \"iterative_cbm_tempfiles_{}\".format(iteration_num))"
   ]
  },
  {
   "cell_type": "markdown",
   "metadata": {},
   "source": [
    "Sets up and imports a constant SIT inventory with varying events and transition rules at the specified path"
   ]
  },
  {
   "cell_type": "code",
   "execution_count": 18,
   "metadata": {},
   "outputs": [],
   "source": [
    "def iteration_import(project_path, config_save_path, events_factory, transition_factory):\n",
    "\n",
    "\n",
    "    c = sit_helper.SITConfig(\n",
    "        imported_project_path=project_path,\n",
    "        initialize_mapping=True\n",
    "    )\n",
    "    c.data_config(\n",
    "        age_class_size=5,\n",
    "        num_age_classes=14,\n",
    "        classifiers=[\"Stand ID\", \"Leading Species\", \"Land Cover\"])\n",
    "\n",
    "    c.set_single_spatial_unit(17)\n",
    "    c.set_species_classifier(\"Leading Species\")\n",
    "    c.map_species(\"Nonforest\", \"Not stocked\")\n",
    "\n",
    "    c.add_inventory(classifier_set=[\"Stand 1\", \"Luvisolic (E. Canada)\", \"Nonforest\"],\n",
    "                    area=100, age=0, unfccc_land_class=1)\n",
    "    c.add_inventory(classifier_set=[\"Stand 2\", \"Spruce\", \"Forest Only\"],\n",
    "                    area=1000, age=0, unfccc_land_class=0,\n",
    "                    historic_disturbance=\"Wildfire\", last_pass_disturbance=\"Wildfire\")\n",
    "\n",
    "    growth_curve_data = [0,0,0,27,84,155,217,271,317,353,382,406,426,426]\n",
    "\n",
    "    not_stocked_growth = [0.0]*len(growth_curve_data)\n",
    "\n",
    "    c.add_yield(classifier_set=[\"?\",\"?\",\"Nonforest\"],\n",
    "                leading_species_classifier_value=\"Not stocked\",\n",
    "                values=not_stocked_growth)\n",
    "\n",
    "    c.add_yield(classifier_set=[\"?\",\"Red pine\",\"Forest Only\"], \n",
    "                leading_species_classifier_value=\"Red pine\", values=growth_curve_data)\n",
    "    \n",
    "    c.add_yield(classifier_set=[\"?\",\"Spruce\",\"Forest Only\"], \n",
    "                leading_species_classifier_value=\"Spruce\", values=growth_curve_data)\n",
    "    \n",
    "    events_factory(c)\n",
    "    transition_factory(c)\n",
    "    \n",
    "    c.import_project(standard_import_tool_plugin_path, config_save_path)\n",
    "\n",
    "    "
   ]
  },
  {
   "cell_type": "markdown",
   "metadata": {},
   "source": [
    "Set up the first iteration.  This differs from the subsequent iterations in that the stand initialization routines (Makelist) is run to estimate initial forest conditions\n"
   ]
  },
  {
   "cell_type": "code",
   "execution_count": 20,
   "metadata": {},
   "outputs": [],
   "source": [
    "events = [\n",
    "    {\n",
    "    \"classifier_set\": [\"?\",\"?\",\"?\"],\n",
    "    \"disturbance_type\": \"Afforestation\", \n",
    "    \"time_step\": 1, \n",
    "    \"target\": 100,\n",
    "    \"target_type\": \"Area\",\n",
    "    \"sort\": \"SORT_BY_SW_AGE\"\n",
    "    }\n",
    "]\n",
    "transitions = [\n",
    "    {\n",
    "    \"classifier_set_source\": [\"?\",\"?\",\"?\"],\n",
    "    \"classifier_set_target\": [\"?\",\"Red pine\",\"Forest Only\"],\n",
    "    \"disturbance_type\": \"Afforestation\",\n",
    "    \"percent\": 100\n",
    "    }\n",
    "]\n",
    "\n",
    "iteration_num = 1\n",
    "project_path = get_project_path(iteration_num)\n",
    "tempfiles_dir = get_iteration_tempfiles_dir(iteration_num)\n",
    "results_db_path = get_results_db_path(iteration_num)\n",
    "\n",
    "iteration_import(\n",
    "    project_path,\n",
    "    get_config_save_path(iteration_num),\n",
    "    create_event_factory(events),\n",
    "    create_transition_rule_factory(transitions))"
   ]
  },
  {
   "cell_type": "code",
   "execution_count": 21,
   "metadata": {},
   "outputs": [],
   "source": [
    "with AIDB(aidb_path, False) as aidb, \\\n",
    "     AccessDB(project_path, False) as proj:\n",
    "\n",
    "    proj.ExecuteQuery(\"UPDATE tblRunTableDetails SET tblRunTableDetails.RunLength = ?\", iteration_steps)\n",
    "    simId = aidb.AddProjectToAIDB(proj)\n",
    "    s = Simulator(cbm_exe_path,\n",
    "                simId,\n",
    "                os.path.dirname(project_path),\n",
    "                cbm_wd,\n",
    "                toolbox_path)\n",
    "    \n",
    "\n",
    "    s.CleanupRunDirectory()\n",
    "    s.CreateMakelistFiles()\n",
    "    s.copyMakelist()\n",
    "    s.runMakelist()\n",
    "    s.loadMakelistSVLS()\n",
    "    s.DumpMakelistSVLs()\n",
    "    s.CreateCBMFiles()\n",
    "    s.CopyCBMExecutable()\n",
    "    s.RunCBM()\n",
    "    s.CopyTempFiles(output_dir=tempfiles_dir)\n",
    "    s.LoadCBMResults(output_path = results_db_path)"
   ]
  },
  {
   "cell_type": "markdown",
   "metadata": {},
   "source": [
    "now run subsequent iterations"
   ]
  },
  {
   "cell_type": "code",
   "execution_count": 22,
   "metadata": {},
   "outputs": [],
   "source": [
    "\n",
    "for i in range(2,num_iterations+1):\n",
    "    iteration_num = i\n",
    "    project_path = get_project_path(iteration_num)\n",
    "    tempfiles_dir = get_iteration_tempfiles_dir(iteration_num)\n",
    "    results_db_path = get_results_db_path(iteration_num)\n",
    "\n",
    "    #get the total biomass from a previous iteration\n",
    "    total_biomass = cbm3_results.load_pool_indicators( get_results_db_path(i-1))[\"Total Biomass\"][-1:].values[0]\n",
    "    #set the target to 5% of the total biomass from the previous iteration\n",
    "    targetC = total_biomass * 0.05\n",
    "    \n",
    "    #create a series of events (divided by the number of iterations)\n",
    "    events = [\n",
    "        {\n",
    "        \"classifier_set\": [\"?\",\"?\",\"?\"],\n",
    "        \"disturbance_type\": \"Clear-cut with slash-burn\", \n",
    "        \"time_step\": x+1, \n",
    "        \"target\": targetC/iteration_steps,\n",
    "        \"target_type\": \"Merchantable\",\n",
    "        \"sort\": \"MERCHCSORT_TOTAL\"\n",
    "        } for x in range(iteration_steps)\n",
    "    ]\n",
    "    \n",
    "    #import the project with new disturbance events\n",
    "    iteration_import(\n",
    "        project_path,\n",
    "        get_config_save_path(iteration_num),\n",
    "        create_event_factory(events),\n",
    "        create_transition_rule_factory([]))\n",
    "    \n",
    "    with AIDB(aidb_path, False) as aidb, \\\n",
    "         AccessDB(project_path, False) as proj:\n",
    "\n",
    "        proj.ExecuteQuery(\"UPDATE tblRunTableDetails SET tblRunTableDetails.RunLength = ?\", iteration_steps)\n",
    "        simId = aidb.AddProjectToAIDB(proj)\n",
    "        s = Simulator(cbm_exe_path,\n",
    "                    simId,\n",
    "                    os.path.dirname(project_path),\n",
    "                    cbm_wd,\n",
    "                    toolbox_path)\n",
    "\n",
    "        s.CleanupRunDirectory()\n",
    "        s.CopyToWorkingDir(project_path)\n",
    "        s.CreateCBMFiles()\n",
    "        s.CopyCBMExecutable()\n",
    "        s.CopySVLFromPreviousRun(os.path.join(get_iteration_tempfiles_dir(i-1),\"CBMRun\",\"output\"))\n",
    "        s.RunCBM()\n",
    "        s.CopyTempFiles(output_dir=tempfiles_dir)\n",
    "        s.LoadCBMResults(output_path = results_db_path)\n",
    "   "
   ]
  },
  {
   "cell_type": "code",
   "execution_count": 20,
   "metadata": {},
   "outputs": [
    {
     "data": {
      "text/plain": [
       "0         0.000000\n",
       "1       102.647662\n",
       "2       448.064649\n",
       "3      1059.966821\n",
       "4      1950.202115\n",
       "5      3125.129825\n",
       "6      4587.288546\n",
       "7      6336.124666\n",
       "8      8368.397713\n",
       "9     10678.445329\n",
       "10    13258.388015\n",
       "Name: Total Biomass, dtype: float64"
      ]
     },
     "execution_count": 20,
     "metadata": {},
     "output_type": "execute_result"
    }
   ],
   "source": [
    "cbm3_results.load_pool_indicators( get_results_db_path(1))[\"Total Biomass\"]\n",
    "    "
   ]
  },
  {
   "cell_type": "code",
   "execution_count": 21,
   "metadata": {},
   "outputs": [
    {
     "data": {
      "text/plain": [
       "0     13258.388015\n",
       "1     15870.037772\n",
       "2     18700.057113\n",
       "3     21739.095879\n",
       "4     24976.093121\n",
       "5     28398.448142\n",
       "6     31992.228490\n",
       "7     35742.345809\n",
       "8     39632.765489\n",
       "9     43646.694767\n",
       "10    47766.763791\n",
       "Name: Total Biomass, dtype: float64"
      ]
     },
     "execution_count": 21,
     "metadata": {},
     "output_type": "execute_result"
    }
   ],
   "source": [
    "cbm3_results.load_pool_indicators( get_results_db_path(2))[\"Total Biomass\"]\n",
    "    "
   ]
  },
  {
   "cell_type": "code",
   "execution_count": 22,
   "metadata": {},
   "outputs": [
    {
     "data": {
      "text/plain": [
       "0     47766.787352\n",
       "1     51521.964713\n",
       "2     55938.368270\n",
       "3     60370.196450\n",
       "4     64739.261456\n",
       "5     69057.337236\n",
       "6     72761.777134\n",
       "7     76444.654909\n",
       "8     80111.098436\n",
       "9     83765.450936\n",
       "10    87411.318724\n",
       "Name: Total Biomass, dtype: float64"
      ]
     },
     "execution_count": 22,
     "metadata": {},
     "output_type": "execute_result"
    }
   ],
   "source": [
    "cbm3_results.load_pool_indicators( get_results_db_path(3))[\"Total Biomass\"]"
   ]
  },
  {
   "cell_type": "code",
   "execution_count": 25,
   "metadata": {},
   "outputs": [
    {
     "data": {
      "text/plain": [
       "0      87411.282227\n",
       "1      90128.364414\n",
       "2      92845.063875\n",
       "3      95562.269379\n",
       "4      98280.003903\n",
       "5     100998.874596\n",
       "6     103264.381427\n",
       "7     105531.377913\n",
       "8     107802.002989\n",
       "9     110077.991017\n",
       "10    112360.848815\n",
       "Name: Total Biomass, dtype: float64"
      ]
     },
     "execution_count": 25,
     "metadata": {},
     "output_type": "execute_result"
    }
   ],
   "source": [
    "cbm3_results.load_pool_indicators( get_results_db_path(4))[\"Total Biomass\"]"
   ]
  },
  {
   "cell_type": "code",
   "execution_count": 26,
   "metadata": {},
   "outputs": [
    {
     "data": {
      "text/plain": [
       "0     112360.804630\n",
       "1     113846.509644\n",
       "2     115341.880884\n",
       "3     116848.609563\n",
       "4     118345.113961\n",
       "5     119832.527453\n",
       "6     120979.550064\n",
       "7     122195.949134\n",
       "8     123431.935018\n",
       "9     124675.654521\n",
       "10    125928.708735\n",
       "Name: Total Biomass, dtype: float64"
      ]
     },
     "execution_count": 26,
     "metadata": {},
     "output_type": "execute_result"
    }
   ],
   "source": [
    "cbm3_results.load_pool_indicators( get_results_db_path(5))[\"Total Biomass\"]"
   ]
  },
  {
   "cell_type": "code",
   "execution_count": 32,
   "metadata": {},
   "outputs": [
    {
     "data": {
      "text/plain": [
       "<matplotlib.axes._subplots.AxesSubplot at 0x113060b8>"
      ]
     },
     "execution_count": 32,
     "metadata": {},
     "output_type": "execute_result"
    },
    {
     "data": {
      "image/png": "[encoded data removed]",
      "text/plain": [
       "<Figure size 432x288 with 1 Axes>"
      ]
     },
     "metadata": {
      "needs_background": "light"
     },
     "output_type": "display_data"
    }
   ],
   "source": [
    "dist_indicators = cbm3_results.load_disturbance_indicators(\n",
    "    get_results_db_path(5), \n",
    "    disturbance_type_grouping=True)\n",
    "\n",
    "p = dist_indicators.loc[dist_indicators[\"DistTypeID\"]==2][[\"TimeStep\",\"Product\"]].groupby(\"TimeStep\").sum()\n",
    "p.plot(ylim=(0,1000))"
   ]
  },
  {
   "cell_type": "code",
   "execution_count": null,
   "metadata": {},
   "outputs": [],
   "source": []
  }
 ],
 "metadata": {
  "kernelspec": {
   "display_name": "Python 3",
   "language": "python",
   "name": "python3"
  },
  "language_info": {
   "codemirror_mode": {
    "name": "ipython",
    "version": 3
   },
   "file_extension": ".py",
   "mimetype": "text/x-python",
   "name": "python",
   "nbconvert_exporter": "python",
   "pygments_lexer": "ipython3",
   "version": "3.7.1"
  }
 },
 "nbformat": 4,
 "nbformat_minor": 2
}
