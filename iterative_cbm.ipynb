{
 "cells": [
  {
   "cell_type": "code",
   "execution_count": 1,
   "metadata": {},
   "outputs": [],
   "source": [
    "import sys, os, json, subprocess\n",
    "import numpy as np\n",
    "import matplotlib.pyplot as plt\n",
    "import pandas as pd\n",
    "%matplotlib inline"
   ]
  },
  {
   "cell_type": "code",
   "execution_count": 2,
   "metadata": {},
   "outputs": [],
   "source": [
    "import sit_helper\n",
    "standard_import_tool_plugin_path=sit_helper.load_standard_import_tool_plugin()\n",
    "import cbm3_python_helper\n",
    "cbm3_python_helper.load_cbm3_python()\n",
    "\n",
    "import cbm3_python.simulation.projectsimulator\n",
    "from cbm3_python.cbm3data import cbm3_results\n",
    "from cbm3_python.cbm3data.aidb import AIDB\n",
    "from cbm3_python.cbm3data.accessdb import AccessDB\n",
    "from cbm3_python.cbm3data.projectdb import ProjectDB\n",
    "from cbm3_python.simulation.simulator import Simulator\n",
    "from cbm3_python.cbm3data import cbm3_results"
   ]
  },
  {
   "cell_type": "code",
   "execution_count": 3,
   "metadata": {},
   "outputs": [],
   "source": [
    "local_working_dir = os.path.abspath(\".\")\n",
    "toolbox_path = r'C:\\Program Files (x86)\\Operational-Scale CBM-CFS3'\n",
    "aidb_path=os.path.join(toolbox_path, \"admin\", \"dbs\", \"ArchiveIndex_Beta_Install.mdb\")\n",
    "cbm_exe_path=os.path.join(toolbox_path, \"admin\", \"executables\")\n",
    "cbm_wd = os.path.join(toolbox_path, \"temp\")\n",
    "\n",
    "#the number of steps in each iteration\n",
    "iteration_steps = 10\n",
    "num_iterations = 5"
   ]
  },
  {
   "cell_type": "code",
   "execution_count": 4,
   "metadata": {},
   "outputs": [],
   "source": [
    "def create_event_factory(events):\n",
    "    def factory(config):\n",
    "        for e in events:\n",
    "            config.add_event(**e)\n",
    "    return factory\n",
    "            \n",
    "def create_transition_rule_factory(transitions):\n",
    "    def factory(config):\n",
    "        for t in transitions:\n",
    "            config.add_transition_rule(**t)\n",
    "    return factory"
   ]
  },
  {
   "cell_type": "code",
   "execution_count": 5,
   "metadata": {},
   "outputs": [],
   "source": [
    "def iteration_import(project_path, config_save_path, events_factory, transition_factory):\n",
    "\n",
    "\n",
    "    c = sit_helper.SITConfig(\n",
    "        imported_project_path=project_path,\n",
    "        initialize_mapping=True\n",
    "    )\n",
    "    c.data_config(\n",
    "        age_class_size=5,\n",
    "        num_age_classes=14,\n",
    "        classifiers=[\"Stand ID\", \"Leading Species\", \"Land Cover\"])\n",
    "\n",
    "    c.set_single_spatial_unit(17)\n",
    "    c.set_species_classifier(\"Leading Species\")\n",
    "    c.map_species(\"Nonforest\", \"Not stocked\")\n",
    "\n",
    "    c.add_inventory(classifier_set=[\"Stand 1\", \"Luvisolic (E. Canada)\", \"Nonforest\"],\n",
    "                    area=100, age=0, unfccc_land_class=1)\n",
    "    c.add_inventory(classifier_set=[\"Stand 2\", \"Spruce\", \"Forest Only\"],\n",
    "                    area=1000, age=0, unfccc_land_class=0,\n",
    "                   historic_disturbance=\"Wildfire\", last_pass_disturbance=\"Wildfire\")\n",
    "\n",
    "    growth_curve_data = [0,0,0,27,84,155,217,271,317,353,382,406,426,426]\n",
    "\n",
    "    not_stocked_growth = [0.0]*len(growth_curve_data)\n",
    "\n",
    "    c.add_yield(classifier_set=[\"?\",\"?\",\"Nonforest\"],\n",
    "                leading_species_classifier_value=\"Not stocked\",\n",
    "                values=not_stocked_growth)\n",
    "\n",
    "    c.add_yield(classifier_set=[\"?\",\"Red pine\",\"Forest Only\"], \n",
    "                leading_species_classifier_value=\"Red pine\", values=growth_curve_data)\n",
    "    \n",
    "    c.add_yield(classifier_set=[\"?\",\"Spruce\",\"Forest Only\"], \n",
    "                leading_species_classifier_value=\"Spruce\", values=growth_curve_data)\n",
    "    \n",
    "    events_factory(c)\n",
    "    transition_factory(c)\n",
    "    \n",
    "    c.import_project(standard_import_tool_plugin_path, config_save_path)\n",
    "\n",
    "    "
   ]
  },
  {
   "cell_type": "code",
   "execution_count": 6,
   "metadata": {},
   "outputs": [],
   "source": [
    "def get_project_path(iteration_num):\n",
    "    return os.path.join(local_working_dir, \"iterative_cbm\", \"iterative_cbm_{}.mdb\".format(iteration_num))\n",
    "\n",
    "def get_results_db_path(iteration_num):\n",
    "    return os.path.join(local_working_dir, \"iterative_cbm\", \"iterative_cbm_results_{}.mdb\".format(iteration_num))\n",
    "\n",
    "def get_config_save_path(iteration_num):\n",
    "    return os.path.join(local_working_dir, \"iterative_cbm\", \"iterative_cbm_config_{}\".format(iteration_num))\n",
    "\n",
    "def get_iteration_tempfiles_dir(iteration_num):\n",
    "    return os.path.join(local_working_dir, \"iterative_cbm\", \"iterative_cbm_tempfiles_{}\".format(iteration_num))\n"
   ]
  },
  {
   "cell_type": "code",
   "execution_count": 7,
   "metadata": {},
   "outputs": [],
   "source": [
    "events = [\n",
    "    {\n",
    "    \"classifier_set\": [\"?\",\"?\",\"?\"],\n",
    "    \"disturbance_type\": \"Afforestation\", \n",
    "    \"time_step\": 1, \n",
    "    \"target\": 100,\n",
    "    \"target_type\": \"Area\",\n",
    "    \"sort\": \"SORT_BY_SW_AGE\"\n",
    "    }\n",
    "]\n",
    "transitions = [\n",
    "    {\n",
    "    \"classifier_set_source\": [\"?\",\"?\",\"?\"],\n",
    "    \"classifier_set_target\": [\"?\",\"Red pine\",\"Forest Only\"],\n",
    "    \"disturbance_type\": \"Afforestation\",\n",
    "    \"percent\": 100\n",
    "    }\n",
    "]\n",
    "\n",
    "iteration_num = 1\n",
    "project_path = get_project_path(iteration_num)\n",
    "tempfiles_dir = get_iteration_tempfiles_dir(iteration_num)\n",
    "results_db_path = get_results_db_path(iteration_num)\n",
    "\n",
    "iteration_import(\n",
    "    project_path,\n",
    "    get_config_save_path(iteration_num),\n",
    "    create_event_factory(events),\n",
    "    create_transition_rule_factory(transitions))\n",
    "\n"
   ]
  },
  {
   "cell_type": "code",
   "execution_count": 8,
   "metadata": {},
   "outputs": [],
   "source": [
    "with AIDB(aidb_path, False) as aidb, \\\n",
    "     AccessDB(project_path, False) as proj:\n",
    "\n",
    "    proj.ExecuteQuery(\"UPDATE tblRunTableDetails SET tblRunTableDetails.RunLength = ?\", iteration_steps)\n",
    "    simId = aidb.AddProjectToAIDB(proj)\n",
    "    s = Simulator(cbm_exe_path,\n",
    "                simId,\n",
    "                os.path.dirname(project_path),\n",
    "                cbm_wd,\n",
    "                toolbox_path)\n",
    "    \n",
    "\n",
    "    s.CleanupRunDirectory()\n",
    "    s.CreateMakelistFiles()\n",
    "    s.copyMakelist()\n",
    "    s.runMakelist()\n",
    "    s.loadMakelistSVLS()\n",
    "    s.DumpMakelistSVLs()\n",
    "    s.CreateCBMFiles()\n",
    "    s.CopyCBMExecutable()\n",
    "    s.RunCBM()\n",
    "    s.CopyTempFiles(output_dir=tempfiles_dir)\n",
    "    s.LoadCBMResults(output_path = results_db_path)"
   ]
  },
  {
   "cell_type": "markdown",
   "metadata": {},
   "source": [
    "now run subsequent iterations"
   ]
  },
  {
   "cell_type": "code",
   "execution_count": 9,
   "metadata": {},
   "outputs": [],
   "source": [
    "\n",
    "for i in range(2,num_iterations+1):\n",
    "    iteration_num = i\n",
    "    project_path = get_project_path(iteration_num)\n",
    "    tempfiles_dir = get_iteration_tempfiles_dir(iteration_num)\n",
    "    results_db_path = get_results_db_path(iteration_num)\n",
    "\n",
    "    #get the total biomass from a previous iteration\n",
    "    total_biomass = cbm3_results.load_pool_indicators( get_results_db_path(i-1))[\"Total Biomass\"][-1:].values[0]\n",
    "    #set the target to 5% of the total biomass from the previous iteration\n",
    "    targetC = total_biomass * 0.05\n",
    "    \n",
    "    events = [\n",
    "        {\n",
    "        \"classifier_set\": [\"?\",\"?\",\"?\"],\n",
    "        \"disturbance_type\": \"Clear-cut with slash-burn\", \n",
    "        \"time_step\": x+1, \n",
    "        \"target\": targetC/iteration_steps,\n",
    "        \"target_type\": \"Merchantable\",\n",
    "        \"sort\": \"MERCHCSORT_TOTAL\"\n",
    "        } for x in range(iteration_steps)\n",
    "    ]\n",
    "    \n",
    "    iteration_import(\n",
    "        project_path,\n",
    "        get_config_save_path(iteration_num),\n",
    "        create_event_factory(events),\n",
    "        create_transition_rule_factory([]))\n",
    "    \n",
    "    with AIDB(aidb_path, False) as aidb, \\\n",
    "         AccessDB(project_path, False) as proj:\n",
    "\n",
    "        proj.ExecuteQuery(\"UPDATE tblRunTableDetails SET tblRunTableDetails.RunLength = ?\", iteration_steps)\n",
    "        simId = aidb.AddProjectToAIDB(proj)\n",
    "        s = Simulator(cbm_exe_path,\n",
    "                    simId,\n",
    "                    os.path.dirname(project_path),\n",
    "                    cbm_wd,\n",
    "                    toolbox_path)\n",
    "\n",
    "        s.CleanupRunDirectory()\n",
    "        s.CopyToWorkingDir(project_path)\n",
    "        s.CreateCBMFiles()\n",
    "        s.CopyCBMExecutable()\n",
    "        s.CopySVLFromPreviousRun(os.path.join(get_iteration_tempfiles_dir(i-1),\"CBMRun\",\"output\"))\n",
    "        s.RunCBM()\n",
    "        s.CopyTempFiles(output_dir=tempfiles_dir)\n",
    "        s.LoadCBMResults(output_path = results_db_path)\n",
    "   "
   ]
  },
  {
   "cell_type": "code",
   "execution_count": 145,
   "metadata": {},
   "outputs": [
    {
     "data": {
      "text/plain": [
       "0         0.000000\n",
       "1       102.647662\n",
       "2       448.064649\n",
       "3      1059.966821\n",
       "4      1950.202115\n",
       "5      3125.129825\n",
       "6      4587.288546\n",
       "7      6336.124666\n",
       "8      8368.397713\n",
       "9     10678.445329\n",
       "10    13258.388015\n",
       "Name: Total Biomass, dtype: float64"
      ]
     },
     "execution_count": 145,
     "metadata": {},
     "output_type": "execute_result"
    }
   ],
   "source": [
    "cbm3_results.load_pool_indicators( get_results_db_path(1))[\"Total Biomass\"]\n",
    "    "
   ]
  },
  {
   "cell_type": "code",
   "execution_count": 146,
   "metadata": {},
   "outputs": [
    {
     "data": {
      "text/plain": [
       "0     13258.388015\n",
       "1     16098.308465\n",
       "2     19186.416672\n",
       "3     22509.213921\n",
       "4     26051.666490\n",
       "5     29797.375394\n",
       "6     33728.761085\n",
       "7     37827.240095\n",
       "8     42073.429556\n",
       "9     46447.325253\n",
       "10    50928.500982\n",
       "Name: Total Biomass, dtype: float64"
      ]
     },
     "execution_count": 146,
     "metadata": {},
     "output_type": "execute_result"
    }
   ],
   "source": [
    "cbm3_results.load_pool_indicators( get_results_db_path(2))[\"Total Biomass\"]\n",
    "    "
   ]
  },
  {
   "cell_type": "code",
   "execution_count": 147,
   "metadata": {},
   "outputs": [
    {
     "data": {
      "text/plain": [
       "0     50928.500982\n",
       "1     55496.306383\n",
       "2     60808.829333\n",
       "3     66149.865759\n",
       "4     71427.624977\n",
       "5     76650.678663\n",
       "6     81172.518959\n",
       "7     85662.114870\n",
       "8     90122.990392\n",
       "9     94558.255256\n",
       "10    98970.628297\n",
       "Name: Total Biomass, dtype: float64"
      ]
     },
     "execution_count": 147,
     "metadata": {},
     "output_type": "execute_result"
    }
   ],
   "source": [
    "cbm3_results.load_pool_indicators( get_results_db_path(3))[\"Total Biomass\"]"
   ]
  },
  {
   "cell_type": "code",
   "execution_count": 149,
   "metadata": {},
   "outputs": [
    {
     "data": {
      "text/plain": [
       "0      98970.628297\n",
       "1     102796.928621\n",
       "2     106609.200966\n",
       "3     110408.779873\n",
       "4     114196.904791\n",
       "5     117974.741168\n",
       "6     121185.609936\n",
       "7     124390.372782\n",
       "8     127589.668638\n",
       "9     130784.030323\n",
       "10    133973.982354\n",
       "Name: Total Biomass, dtype: float64"
      ]
     },
     "execution_count": 149,
     "metadata": {},
     "output_type": "execute_result"
    }
   ],
   "source": [
    "cbm3_results.load_pool_indicators( get_results_db_path(4))[\"Total Biomass\"]"
   ]
  },
  {
   "cell_type": "code",
   "execution_count": 150,
   "metadata": {},
   "outputs": [
    {
     "data": {
      "text/plain": [
       "0     133973.982354\n",
       "1     136467.732550\n",
       "2     138959.326201\n",
       "3     141449.022531\n",
       "4     143905.856649\n",
       "5     146329.367287\n",
       "6     148276.914940\n",
       "7     150313.283608\n",
       "8     152364.988367\n",
       "9     154412.267933\n",
       "10    156455.238629\n",
       "Name: Total Biomass, dtype: float64"
      ]
     },
     "execution_count": 150,
     "metadata": {},
     "output_type": "execute_result"
    }
   ],
   "source": [
    "cbm3_results.load_pool_indicators( get_results_db_path(5))[\"Total Biomass\"]"
   ]
  },
  {
   "cell_type": "code",
   "execution_count": null,
   "metadata": {},
   "outputs": [],
   "source": []
  }
 ],
 "metadata": {
  "kernelspec": {
   "display_name": "Python 3",
   "language": "python",
   "name": "python3"
  },
  "language_info": {
   "codemirror_mode": {
    "name": "ipython",
    "version": 3
   },
   "file_extension": ".py",
   "mimetype": "text/x-python",
   "name": "python",
   "nbconvert_exporter": "python",
   "pygments_lexer": "ipython3",
   "version": "3.7.1"
  }
 },
 "nbformat": 4,
 "nbformat_minor": 2
}
