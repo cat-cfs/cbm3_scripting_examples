{
 "cells": [
  {
   "cell_type": "markdown",
   "metadata": {},
   "source": [
    "Example of runnning CBM iteratively. CBM is run for several intervals with an opportunity to adjust disturbance events between each interval.  \n",
    "\n",
    "The script creates a seperate CBM-CFS3 project for each simulation interval and injects the previous simulation state into each subsequent interation.\n",
    "\n",
    "Each interval's CBM-CFS3 project has varying disturbance levels, in this case the script sets the harvest C target to be 5% of each previous iteration's end-of-interval total biomass C."
   ]
  },
  {
   "cell_type": "code",
   "execution_count": 36,
   "metadata": {},
   "outputs": [],
   "source": [
    "import sys, os, json, subprocess\n",
    "import numpy as np\n",
    "import matplotlib.pyplot as plt\n",
    "import pandas as pd\n",
    "%matplotlib inline"
   ]
  },
  {
   "cell_type": "code",
   "execution_count": 37,
   "metadata": {},
   "outputs": [],
   "source": [
    "import sit_helper\n",
    "standard_import_tool_plugin_path=sit_helper.load_standard_import_tool_plugin()\n",
    "import cbm3_python_helper\n",
    "cbm3_python_helper.load_cbm3_python()\n",
    "\n",
    "import cbm3_python.simulation.projectsimulator\n",
    "from cbm3_python.cbm3data import cbm3_results\n",
    "from cbm3_python.cbm3data.aidb import AIDB\n",
    "from cbm3_python.cbm3data.accessdb import AccessDB\n",
    "from cbm3_python.cbm3data.projectdb import ProjectDB\n",
    "from cbm3_python.simulation.simulator import Simulator\n",
    "from cbm3_python.cbm3data import cbm3_results"
   ]
  },
  {
   "cell_type": "code",
   "execution_count": 38,
   "metadata": {},
   "outputs": [],
   "source": [
    "local_working_dir = os.path.abspath(\".\")\n",
    "toolbox_path = r'C:\\Program Files (x86)\\Operational-Scale CBM-CFS3'\n",
    "aidb_path=os.path.join(toolbox_path, \"admin\", \"dbs\", \"ArchiveIndex_Beta_Install.mdb\")\n",
    "cbm_exe_path=os.path.join(toolbox_path, \"admin\", \"executables\")\n",
    "cbm_wd = os.path.join(toolbox_path, \"temp\")\n",
    "\n",
    "#the number of steps in each iteration\n",
    "iteration_steps = 10\n",
    "#the number of iterations\n",
    "num_iterations = 5"
   ]
  },
  {
   "cell_type": "markdown",
   "metadata": {},
   "source": [
    "The following methods inject disturbances and transition rules into the iteration import function."
   ]
  },
  {
   "cell_type": "code",
   "execution_count": 39,
   "metadata": {},
   "outputs": [],
   "source": [
    "def create_event_factory(events):\n",
    "    def factory(config):\n",
    "        for e in events:\n",
    "            config.add_event(**e)\n",
    "    return factory\n",
    "            \n",
    "def create_transition_rule_factory(transitions):\n",
    "    def factory(config):\n",
    "        for t in transitions:\n",
    "            config.add_transition_rule(**t)\n",
    "    return factory"
   ]
  },
  {
   "cell_type": "markdown",
   "metadata": {},
   "source": [
    "Updates the number of timesteps to run for the given CBM project (AccessDB instance)"
   ]
  },
  {
   "cell_type": "code",
   "execution_count": 40,
   "metadata": {},
   "outputs": [],
   "source": [
    "def set_project_run_length(proj, n_steps):\n",
    "    proj.ExecuteQuery(\"UPDATE tblRunTableDetails SET tblRunTableDetails.RunLength = ?\", n_steps)"
   ]
  },
  {
   "cell_type": "markdown",
   "metadata": {},
   "source": [
    "Path helper functions"
   ]
  },
  {
   "cell_type": "code",
   "execution_count": 41,
   "metadata": {},
   "outputs": [],
   "source": [
    "def get_project_path(iteration_num):\n",
    "    return os.path.join(local_working_dir, \"iterative_cbm\", \"iterative_cbm_{}.mdb\".format(iteration_num))\n",
    "\n",
    "def get_results_db_path(iteration_num):\n",
    "    return os.path.join(local_working_dir, \"iterative_cbm\", \"iterative_cbm_results_{}.mdb\".format(iteration_num))\n",
    "\n",
    "def get_config_save_path(iteration_num):\n",
    "    return os.path.join(local_working_dir, \"iterative_cbm\", \"iterative_cbm_config_{}.json\".format(iteration_num))\n",
    "\n",
    "def get_iteration_tempfiles_dir(iteration_num):\n",
    "    return os.path.join(local_working_dir, \"iterative_cbm\", \"iterative_cbm_tempfiles_{}\".format(iteration_num))"
   ]
  },
  {
   "cell_type": "markdown",
   "metadata": {},
   "source": [
    "Sets up and imports a constant SIT inventory with varying events and transition rules at the specified path"
   ]
  },
  {
   "cell_type": "code",
   "execution_count": 42,
   "metadata": {},
   "outputs": [],
   "source": [
    "def iteration_import(project_path, config_save_path, events_factory, transition_factory):\n",
    "\n",
    "\n",
    "    c = sit_helper.SITConfig(\n",
    "        imported_project_path=project_path,\n",
    "        initialize_mapping=True\n",
    "    )\n",
    "    c.data_config(\n",
    "        age_class_size=5,\n",
    "        num_age_classes=14,\n",
    "        classifiers=[\"admin\", \"eco\", \"Leading Species\", \"Land Cover\"])\n",
    "\n",
    "    c.set_admin_eco_mapping(\"admin\",\"eco\")\n",
    "    c.set_species_classifier(\"Leading Species\")\n",
    "    c.map_species(\"Nonforest\", \"Not stocked\")\n",
    "\n",
    "    c.add_inventory(classifier_set=[\"British Columbia\", \"Boreal Cordillera\", \"Luvisolic (W. Canada)\", \"Nonforest\"],\n",
    "                    area=100, age=0, unfccc_land_class=1)\n",
    "    c.add_inventory(classifier_set=[\"British Columbia\", \"Boreal Plains\", \"Luvisolic (W. Canada)\", \"Nonforest\"],\n",
    "                    area=100, age=0, unfccc_land_class=1)\n",
    "    c.add_inventory(classifier_set=[\"British Columbia\", \"Taiga Plains\", \"Luvisolic (W. Canada)\", \"Nonforest\"],\n",
    "                    area=100, age=0, unfccc_land_class=1)\n",
    "    c.add_inventory(classifier_set=[\"British Columbia\", \"Pacific Maritime\", \"Luvisolic (W. Canada)\", \"Nonforest\"],\n",
    "                    area=100, age=0, unfccc_land_class=1)\n",
    "    c.add_inventory(classifier_set=[\"British Columbia\", \"Montane Cordillera\", \"Luvisolic (W. Canada)\", \"Nonforest\"],\n",
    "                    area=100, age=0, unfccc_land_class=1)\n",
    "    \n",
    "    c.add_inventory(classifier_set=[\"British Columbia\", \"Boreal Cordillera\", \"Spruce\", \"Forest Only\"],\n",
    "                    area=1000, age=50, unfccc_land_class=0,\n",
    "                    historic_disturbance=\"Wildfire\", last_pass_disturbance=\"Wildfire\")\n",
    "    c.add_inventory(classifier_set=[\"British Columbia\", \"Boreal Plains\", \"Spruce\", \"Forest Only\"],\n",
    "                    area=1000, age=50, unfccc_land_class=0,\n",
    "                    historic_disturbance=\"Wildfire\", last_pass_disturbance=\"Wildfire\")\n",
    "    c.add_inventory(classifier_set=[\"British Columbia\", \"Taiga Plains\", \"Spruce\", \"Forest Only\"],\n",
    "                    area=1000, age=50, unfccc_land_class=0,\n",
    "                    historic_disturbance=\"Wildfire\", last_pass_disturbance=\"Wildfire\")\n",
    "    c.add_inventory(classifier_set=[\"British Columbia\", \"Pacific Maritime\", \"Spruce\", \"Forest Only\"],\n",
    "                    area=1000, age=50, unfccc_land_class=0,\n",
    "                    historic_disturbance=\"Wildfire\", last_pass_disturbance=\"Wildfire\")\n",
    "    c.add_inventory(classifier_set=[\"British Columbia\", \"Montane Cordillera\", \"Spruce\", \"Forest Only\"],\n",
    "                    area=1000, age=50, unfccc_land_class=0,\n",
    "                    historic_disturbance=\"Wildfire\", last_pass_disturbance=\"Wildfire\")\n",
    "\n",
    "    growth_curve_data = [0,0,0,27,84,155,217,271,317,353,382,406,426,426]\n",
    "\n",
    "    not_stocked_growth = [0.0]*len(growth_curve_data)\n",
    "\n",
    "    c.add_yield(classifier_set=[\"?\",\"?\",\"?\",\"Nonforest\"],\n",
    "                leading_species_classifier_value=\"Not stocked\",\n",
    "                values=not_stocked_growth)\n",
    "\n",
    "    c.add_yield(classifier_set=[\"?\",\"?\",\"Red pine\",\"Forest Only\"], \n",
    "                leading_species_classifier_value=\"Red pine\", values=growth_curve_data)\n",
    "    \n",
    "    c.add_yield(classifier_set=[\"?\",\"?\",\"Spruce\",\"Forest Only\"], \n",
    "                leading_species_classifier_value=\"Spruce\", values=growth_curve_data)\n",
    "    \n",
    "    events_factory(c)\n",
    "    transition_factory(c)\n",
    "    \n",
    "    c.import_project(standard_import_tool_plugin_path, config_save_path)\n",
    "\n",
    "    "
   ]
  },
  {
   "cell_type": "markdown",
   "metadata": {},
   "source": [
    "Set up the first iteration.  This is a typical CBM run the since the stand initialization routine (Makelist) is run to estimate initial forest conditions.\n"
   ]
  },
  {
   "cell_type": "code",
   "execution_count": 43,
   "metadata": {},
   "outputs": [],
   "source": [
    "events = [\n",
    "    {\n",
    "    \"classifier_set\": [\"?\",\"?\",\"?\",\"?\"],\n",
    "    \"disturbance_type\": \"Afforestation\", \n",
    "    \"time_step\": 1, \n",
    "    \"target\": 100,\n",
    "    \"target_type\": \"Area\",\n",
    "    \"sort\": \"SORT_BY_SW_AGE\"\n",
    "    }\n",
    "]\n",
    "transitions = [\n",
    "    {\n",
    "    \"classifier_set_source\": [\"?\",\"?\",\"?\",\"?\"],\n",
    "    \"classifier_set_target\": [\"?\",\"?\",\"Red pine\",\"Forest Only\"],\n",
    "    \"disturbance_type\": \"Afforestation\",\n",
    "    \"percent\": 100\n",
    "    }\n",
    "]\n",
    "\n",
    "iteration_num = 1\n",
    "project_path = get_project_path(iteration_num)\n",
    "tempfiles_dir = get_iteration_tempfiles_dir(iteration_num)\n",
    "results_db_path = get_results_db_path(iteration_num)\n",
    "\n",
    "iteration_import(\n",
    "    project_path,\n",
    "    get_config_save_path(iteration_num),\n",
    "    create_event_factory(events),\n",
    "    create_transition_rule_factory(transitions))"
   ]
  },
  {
   "cell_type": "code",
   "execution_count": 44,
   "metadata": {},
   "outputs": [],
   "source": [
    "with AIDB(aidb_path, False) as aidb, \\\n",
    "     AccessDB(project_path, False) as proj:\n",
    "\n",
    "    set_project_run_length(proj, iteration_steps)\n",
    "    simId = aidb.AddProjectToAIDB(proj)\n",
    "    s = Simulator(cbm_exe_path,\n",
    "                simId,\n",
    "                os.path.dirname(project_path),\n",
    "                cbm_wd,\n",
    "                toolbox_path)\n",
    "    \n",
    "\n",
    "    s.CleanupRunDirectory()\n",
    "    s.CreateMakelistFiles()\n",
    "    s.copyMakelist()\n",
    "    s.runMakelist()\n",
    "    s.loadMakelistSVLS()\n",
    "    s.DumpMakelistSVLs()\n",
    "    s.CreateCBMFiles()\n",
    "    s.CopyCBMExecutable()\n",
    "    s.RunCBM()\n",
    "    s.CopyTempFiles(output_dir=tempfiles_dir)\n",
    "    s.LoadCBMResults(output_path = results_db_path)"
   ]
  },
  {
   "cell_type": "markdown",
   "metadata": {},
   "source": [
    "now run subsequent iterations"
   ]
  },
  {
   "cell_type": "code",
   "execution_count": null,
   "metadata": {},
   "outputs": [],
   "source": [
    "\n",
    "for i in range(2,num_iterations+1):\n",
    "    iteration_num = i\n",
    "    project_path = get_project_path(iteration_num)\n",
    "    tempfiles_dir = get_iteration_tempfiles_dir(iteration_num)\n",
    "    results_db_path = get_results_db_path(iteration_num)\n",
    "\n",
    "    #get the total biomass from a previous iteration\n",
    "    total_biomass = cbm3_results.load_pool_indicators( get_results_db_path(i-1))[\"Total Biomass\"][-1:].values[0]\n",
    "    #set the target to 5% of the total biomass from the previous iteration\n",
    "    targetC = total_biomass * 0.05\n",
    "    \n",
    "    #create a series of events (divided by the number of iterations)\n",
    "    events = [\n",
    "        {\n",
    "        \"classifier_set\": [\"?\",\"?\",\"?\",\"?\"],\n",
    "        \"disturbance_type\": \"Clear-cut with slash-burn\", \n",
    "        \"time_step\": x+1, \n",
    "        \"target\": targetC/iteration_steps,\n",
    "        \"target_type\": \"Merchantable\",\n",
    "        \"sort\": \"MERCHCSORT_TOTAL\"\n",
    "        } for x in range(iteration_steps)\n",
    "    ]\n",
    "    \n",
    "    #import the project with new disturbance events\n",
    "    iteration_import(\n",
    "        project_path,\n",
    "        get_config_save_path(iteration_num),\n",
    "        create_event_factory(events),\n",
    "        create_transition_rule_factory([]))\n",
    "    \n",
    "    with AIDB(aidb_path, False) as aidb, \\\n",
    "         AccessDB(project_path, False) as proj:\n",
    "\n",
    "        proj.ExecuteQuery(\"UPDATE tblRunTableDetails SET tblRunTableDetails.RunLength = ?\", iteration_steps)\n",
    "        simId = aidb.AddProjectToAIDB(proj)\n",
    "        s = Simulator(cbm_exe_path,\n",
    "                    simId,\n",
    "                    os.path.dirname(project_path),\n",
    "                    cbm_wd,\n",
    "                    toolbox_path)\n",
    "\n",
    "        s.CleanupRunDirectory()\n",
    "        s.CopyToWorkingDir(project_path)\n",
    "        s.CreateCBMFiles()\n",
    "        s.CopyCBMExecutable()\n",
    "        s.CopySVLFromPreviousRun(os.path.join(get_iteration_tempfiles_dir(i-1),\"CBMRun\",\"output\"))\n",
    "        s.RunCBM()\n",
    "        s.CopyTempFiles(output_dir=tempfiles_dir)\n",
    "        s.LoadCBMResults(output_path = results_db_path)\n",
    "   "
   ]
  },
  {
   "cell_type": "markdown",
   "metadata": {},
   "source": [
    "In theory the stock values for the last timestep of a previous iteration should be equal to the stock values for the 0th timestep of a current iteration. The next cell shows a small discrepency between timesteps 2 and 3.  Considering that this is a very small relative difference, and noting the fact that CBM3 operates with 32 bit precision (which limits us to 6 to 7 digits) I do not think this indicates a larger issue"
   ]
  },
  {
   "cell_type": "code",
   "execution_count": 94,
   "metadata": {},
   "outputs": [
    {
     "data": {
      "text/html": [
       "<div>\n",
       "<style scoped>\n",
       "    .dataframe tbody tr th:only-of-type {\n",
       "        vertical-align: middle;\n",
       "    }\n",
       "\n",
       "    .dataframe tbody tr th {\n",
       "        vertical-align: top;\n",
       "    }\n",
       "\n",
       "    .dataframe thead th {\n",
       "        text-align: right;\n",
       "    }\n",
       "</style>\n",
       "<table border=\"1\" class=\"dataframe\">\n",
       "  <thead>\n",
       "    <tr style=\"text-align: right;\">\n",
       "      <th></th>\n",
       "      <th>i2</th>\n",
       "      <th>i3</th>\n",
       "      <th>rel_dif</th>\n",
       "    </tr>\n",
       "  </thead>\n",
       "  <tbody>\n",
       "    <tr>\n",
       "      <th>TimeStep</th>\n",
       "      <td>1.000000e+01</td>\n",
       "      <td>0.000000e+00</td>\n",
       "      <td>2.000000e+00</td>\n",
       "    </tr>\n",
       "    <tr>\n",
       "      <th>Aboveground Very Fast DOM</th>\n",
       "      <td>4.872035e+04</td>\n",
       "      <td>4.872035e+04</td>\n",
       "      <td>1.002212e-08</td>\n",
       "    </tr>\n",
       "    <tr>\n",
       "      <th>Belowground Very Fast DOM</th>\n",
       "      <td>1.040664e+04</td>\n",
       "      <td>1.040664e+04</td>\n",
       "      <td>2.346008e-08</td>\n",
       "    </tr>\n",
       "    <tr>\n",
       "      <th>Aboveground Fast DOM</th>\n",
       "      <td>8.772152e+04</td>\n",
       "      <td>8.772152e+04</td>\n",
       "      <td>4.453012e-08</td>\n",
       "    </tr>\n",
       "    <tr>\n",
       "      <th>Belowground Fast DOM</th>\n",
       "      <td>1.980821e+04</td>\n",
       "      <td>1.980821e+04</td>\n",
       "      <td>1.232523e-07</td>\n",
       "    </tr>\n",
       "    <tr>\n",
       "      <th>Medium DOM</th>\n",
       "      <td>2.006112e+05</td>\n",
       "      <td>2.006112e+05</td>\n",
       "      <td>1.947174e-08</td>\n",
       "    </tr>\n",
       "    <tr>\n",
       "      <th>Aboveground Slow DOM</th>\n",
       "      <td>2.019364e+05</td>\n",
       "      <td>2.019364e+05</td>\n",
       "      <td>9.671981e-09</td>\n",
       "    </tr>\n",
       "    <tr>\n",
       "      <th>Belowground Slow DOM</th>\n",
       "      <td>6.523250e+05</td>\n",
       "      <td>6.523250e+05</td>\n",
       "      <td>0.000000e+00</td>\n",
       "    </tr>\n",
       "    <tr>\n",
       "      <th>Softwood Stem Snag</th>\n",
       "      <td>6.008220e+04</td>\n",
       "      <td>6.008221e+04</td>\n",
       "      <td>5.688820e-08</td>\n",
       "    </tr>\n",
       "    <tr>\n",
       "      <th>Softwood Branch Snag</th>\n",
       "      <td>9.901381e+03</td>\n",
       "      <td>9.901382e+03</td>\n",
       "      <td>4.931446e-08</td>\n",
       "    </tr>\n",
       "    <tr>\n",
       "      <th>Hardwood Stem Snag</th>\n",
       "      <td>0.000000e+00</td>\n",
       "      <td>0.000000e+00</td>\n",
       "      <td>NaN</td>\n",
       "    </tr>\n",
       "    <tr>\n",
       "      <th>Hardwood Branch Snag</th>\n",
       "      <td>0.000000e+00</td>\n",
       "      <td>0.000000e+00</td>\n",
       "      <td>NaN</td>\n",
       "    </tr>\n",
       "    <tr>\n",
       "      <th>BlackCarbon</th>\n",
       "      <td>0.000000e+00</td>\n",
       "      <td>0.000000e+00</td>\n",
       "      <td>NaN</td>\n",
       "    </tr>\n",
       "    <tr>\n",
       "      <th>Peat</th>\n",
       "      <td>0.000000e+00</td>\n",
       "      <td>0.000000e+00</td>\n",
       "      <td>NaN</td>\n",
       "    </tr>\n",
       "    <tr>\n",
       "      <th>Softwood Merchantable</th>\n",
       "      <td>4.068681e+05</td>\n",
       "      <td>4.068681e+05</td>\n",
       "      <td>5.761081e-08</td>\n",
       "    </tr>\n",
       "    <tr>\n",
       "      <th>Softwood Foliage</th>\n",
       "      <td>4.445775e+04</td>\n",
       "      <td>4.445776e+04</td>\n",
       "      <td>3.295263e-08</td>\n",
       "    </tr>\n",
       "    <tr>\n",
       "      <th>Softwood Other</th>\n",
       "      <td>1.472343e+05</td>\n",
       "      <td>1.472343e+05</td>\n",
       "      <td>3.980051e-08</td>\n",
       "    </tr>\n",
       "    <tr>\n",
       "      <th>Softwood Coarse Roots</th>\n",
       "      <td>1.218671e+05</td>\n",
       "      <td>1.218671e+05</td>\n",
       "      <td>5.612672e-08</td>\n",
       "    </tr>\n",
       "    <tr>\n",
       "      <th>Softwood Fine Roots</th>\n",
       "      <td>1.101326e+04</td>\n",
       "      <td>1.101327e+04</td>\n",
       "      <td>4.440100e-08</td>\n",
       "    </tr>\n",
       "    <tr>\n",
       "      <th>Hardwood Merchantable</th>\n",
       "      <td>0.000000e+00</td>\n",
       "      <td>0.000000e+00</td>\n",
       "      <td>NaN</td>\n",
       "    </tr>\n",
       "    <tr>\n",
       "      <th>Hardwood Foliage</th>\n",
       "      <td>0.000000e+00</td>\n",
       "      <td>0.000000e+00</td>\n",
       "      <td>NaN</td>\n",
       "    </tr>\n",
       "    <tr>\n",
       "      <th>Hardwood Other</th>\n",
       "      <td>0.000000e+00</td>\n",
       "      <td>0.000000e+00</td>\n",
       "      <td>NaN</td>\n",
       "    </tr>\n",
       "    <tr>\n",
       "      <th>Hardwood Coarse Roots</th>\n",
       "      <td>0.000000e+00</td>\n",
       "      <td>0.000000e+00</td>\n",
       "      <td>NaN</td>\n",
       "    </tr>\n",
       "    <tr>\n",
       "      <th>Hardwood Find Roots</th>\n",
       "      <td>0.000000e+00</td>\n",
       "      <td>0.000000e+00</td>\n",
       "      <td>NaN</td>\n",
       "    </tr>\n",
       "    <tr>\n",
       "      <th>Total Biomass</th>\n",
       "      <td>7.314405e+05</td>\n",
       "      <td>7.314405e+05</td>\n",
       "      <td>5.208079e-08</td>\n",
       "    </tr>\n",
       "    <tr>\n",
       "      <th>Aboveground Biomass</th>\n",
       "      <td>5.985601e+05</td>\n",
       "      <td>5.985601e+05</td>\n",
       "      <td>5.139835e-08</td>\n",
       "    </tr>\n",
       "    <tr>\n",
       "      <th>Belowground Biomass</th>\n",
       "      <td>1.328803e+05</td>\n",
       "      <td>1.328804e+05</td>\n",
       "      <td>5.515488e-08</td>\n",
       "    </tr>\n",
       "    <tr>\n",
       "      <th>Total Ecosystem</th>\n",
       "      <td>2.022953e+06</td>\n",
       "      <td>2.022953e+06</td>\n",
       "      <td>1.883088e-08</td>\n",
       "    </tr>\n",
       "    <tr>\n",
       "      <th>Dead Organic Matter</th>\n",
       "      <td>1.291513e+06</td>\n",
       "      <td>1.291513e+06</td>\n",
       "      <td>0.000000e+00</td>\n",
       "    </tr>\n",
       "    <tr>\n",
       "      <th>Aboveground DOM</th>\n",
       "      <td>6.089731e+05</td>\n",
       "      <td>6.089731e+05</td>\n",
       "      <td>1.282897e-08</td>\n",
       "    </tr>\n",
       "    <tr>\n",
       "      <th>Belowground DOM</th>\n",
       "      <td>6.825398e+05</td>\n",
       "      <td>6.825398e+05</td>\n",
       "      <td>0.000000e+00</td>\n",
       "    </tr>\n",
       "    <tr>\n",
       "      <th>Deadwood</th>\n",
       "      <td>2.904030e+05</td>\n",
       "      <td>2.904030e+05</td>\n",
       "      <td>1.345114e-08</td>\n",
       "    </tr>\n",
       "    <tr>\n",
       "      <th>Litter</th>\n",
       "      <td>3.383783e+05</td>\n",
       "      <td>3.383783e+05</td>\n",
       "      <td>2.308807e-08</td>\n",
       "    </tr>\n",
       "    <tr>\n",
       "      <th>Soil C</th>\n",
       "      <td>1.315057e+06</td>\n",
       "      <td>1.315057e+06</td>\n",
       "      <td>0.000000e+00</td>\n",
       "    </tr>\n",
       "  </tbody>\n",
       "</table>\n",
       "</div>"
      ],
      "text/plain": [
       "                                     i2            i3       rel_dif\n",
       "TimeStep                   1.000000e+01  0.000000e+00  2.000000e+00\n",
       "Aboveground Very Fast DOM  4.872035e+04  4.872035e+04  1.002212e-08\n",
       "Belowground Very Fast DOM  1.040664e+04  1.040664e+04  2.346008e-08\n",
       "Aboveground Fast DOM       8.772152e+04  8.772152e+04  4.453012e-08\n",
       "Belowground Fast DOM       1.980821e+04  1.980821e+04  1.232523e-07\n",
       "Medium DOM                 2.006112e+05  2.006112e+05  1.947174e-08\n",
       "Aboveground Slow DOM       2.019364e+05  2.019364e+05  9.671981e-09\n",
       "Belowground Slow DOM       6.523250e+05  6.523250e+05  0.000000e+00\n",
       "Softwood Stem Snag         6.008220e+04  6.008221e+04  5.688820e-08\n",
       "Softwood Branch Snag       9.901381e+03  9.901382e+03  4.931446e-08\n",
       "Hardwood Stem Snag         0.000000e+00  0.000000e+00           NaN\n",
       "Hardwood Branch Snag       0.000000e+00  0.000000e+00           NaN\n",
       "BlackCarbon                0.000000e+00  0.000000e+00           NaN\n",
       "Peat                       0.000000e+00  0.000000e+00           NaN\n",
       "Softwood Merchantable      4.068681e+05  4.068681e+05  5.761081e-08\n",
       "Softwood Foliage           4.445775e+04  4.445776e+04  3.295263e-08\n",
       "Softwood Other             1.472343e+05  1.472343e+05  3.980051e-08\n",
       "Softwood Coarse Roots      1.218671e+05  1.218671e+05  5.612672e-08\n",
       "Softwood Fine Roots        1.101326e+04  1.101327e+04  4.440100e-08\n",
       "Hardwood Merchantable      0.000000e+00  0.000000e+00           NaN\n",
       "Hardwood Foliage           0.000000e+00  0.000000e+00           NaN\n",
       "Hardwood Other             0.000000e+00  0.000000e+00           NaN\n",
       "Hardwood Coarse Roots      0.000000e+00  0.000000e+00           NaN\n",
       "Hardwood Find Roots        0.000000e+00  0.000000e+00           NaN\n",
       "Total Biomass              7.314405e+05  7.314405e+05  5.208079e-08\n",
       "Aboveground Biomass        5.985601e+05  5.985601e+05  5.139835e-08\n",
       "Belowground Biomass        1.328803e+05  1.328804e+05  5.515488e-08\n",
       "Total Ecosystem            2.022953e+06  2.022953e+06  1.883088e-08\n",
       "Dead Organic Matter        1.291513e+06  1.291513e+06  0.000000e+00\n",
       "Aboveground DOM            6.089731e+05  6.089731e+05  1.282897e-08\n",
       "Belowground DOM            6.825398e+05  6.825398e+05  0.000000e+00\n",
       "Deadwood                   2.904030e+05  2.904030e+05  1.345114e-08\n",
       "Litter                     3.383783e+05  3.383783e+05  2.308807e-08\n",
       "Soil C                     1.315057e+06  1.315057e+06  0.000000e+00"
      ]
     },
     "execution_count": 94,
     "metadata": {},
     "output_type": "execute_result"
    }
   ],
   "source": [
    "i2 = cbm3_results.load_pool_indicators( get_results_db_path(2)).iloc[-1] \n",
    "i3 = cbm3_results.load_pool_indicators( get_results_db_path(3)).iloc[0]\n",
    "pd.DataFrame(data={\"i2\": i2, \"i3\": i3, \"rel_dif\": (i2-i3).abs()/((i2+i3)/2)})"
   ]
  },
  {
   "cell_type": "code",
   "execution_count": 67,
   "metadata": {},
   "outputs": [],
   "source": [
    "def merge_iteration_results(results, iteration_steps):\n",
    "    \n",
    "    out_results = []\n",
    "    #correct the timestep\n",
    "    for i, r in enumerate(results):\n",
    "        #drop the 0th timestep from the 2nd iteration onwards (it's the same as the last value from each previous iteration)\n",
    "        out = r.loc[r[\"TimeStep\"]!=0].copy() if i!=0 else r.copy()\n",
    "        out[\"TimeStep\"] = out[\"TimeStep\"] + i*iteration_steps\n",
    "        out_results.append(out)\n",
    "\n",
    "    return pd.concat(out_results, axis=0)\n",
    "    \n",
    "    "
   ]
  },
  {
   "cell_type": "code",
   "execution_count": 71,
   "metadata": {},
   "outputs": [],
   "source": [
    "merged_pool_indicators = merge_iteration_results([\n",
    "    cbm3_results.load_pool_indicators( get_results_db_path(x))\n",
    "        for x in range(1, num_iterations+1)\n",
    "], iteration_steps)\n",
    "\n",
    "\n"
   ]
  },
  {
   "cell_type": "code",
   "execution_count": 90,
   "metadata": {},
   "outputs": [
    {
     "data": {
      "text/plain": [
       "<matplotlib.axes._subplots.AxesSubplot at 0x19787cc0>"
      ]
     },
     "execution_count": 90,
     "metadata": {},
     "output_type": "execute_result"
    },
    {
     "data": {
      "image/png": "[encoded data removed]",
      "text/plain": [
       "<Figure size 864x576 with 1 Axes>"
      ]
     },
     "metadata": {
      "needs_background": "light"
     },
     "output_type": "display_data"
    }
   ],
   "source": [
    "merged_pool_indicators[[\"TimeStep\",\"Total Ecosystem\",\"Total Biomass\",\"Dead Organic Matter\"]] \\\n",
    "    .groupby(\"TimeStep\").sum().plot(ylim=(0,3e6), figsize=(12,8))"
   ]
  },
  {
   "cell_type": "code",
   "execution_count": 76,
   "metadata": {},
   "outputs": [],
   "source": [
    "merged_stock_changes = merge_iteration_results([\n",
    "    cbm3_results.load_stock_changes( get_results_db_path(x))\n",
    "        for x in range(1, num_iterations+1)\n",
    "], iteration_steps)\n"
   ]
  },
  {
   "cell_type": "code",
   "execution_count": 91,
   "metadata": {},
   "outputs": [
    {
     "data": {
      "text/plain": [
       "<matplotlib.axes._subplots.AxesSubplot at 0x197e6a58>"
      ]
     },
     "execution_count": 91,
     "metadata": {},
     "output_type": "execute_result"
    },
    {
     "data": {
      "image/png": "[encoded data removed]",
      "text/plain": [
       "<Figure size 864x576 with 1 Axes>"
      ]
     },
     "metadata": {
      "needs_background": "light"
     },
     "output_type": "display_data"
    }
   ],
   "source": [
    "merged_stock_changes[[\"TimeStep\", \"Total Harvest (Biomass)\"]].groupby(\"TimeStep\").sum().plot(figsize=(12,8))"
   ]
  },
  {
   "cell_type": "code",
   "execution_count": null,
   "metadata": {},
   "outputs": [],
   "source": []
  },
  {
   "cell_type": "code",
   "execution_count": 92,
   "metadata": {},
   "outputs": [
    {
     "data": {
      "text/plain": [
       "<matplotlib.axes._subplots.AxesSubplot at 0x1982f400>"
      ]
     },
     "execution_count": 92,
     "metadata": {},
     "output_type": "execute_result"
    },
    {
     "data": {
      "image/png": "[encoded data removed]",
      "text/plain": [
       "<Figure size 864x576 with 1 Axes>"
      ]
     },
     "metadata": {
      "needs_background": "light"
     },
     "output_type": "display_data"
    }
   ],
   "source": [
    "merged_stock_changes[[\"TimeStep\", 'Net Primary Productivity (NPP)',\n",
    " 'Net Ecosystem Productivity (NEP)',\"Net Biome Productivity (NBP)\"]].groupby(\"TimeStep\").sum().plot(figsize=(12,8))"
   ]
  },
  {
   "cell_type": "code",
   "execution_count": null,
   "metadata": {},
   "outputs": [],
   "source": []
  }
 ],
 "metadata": {
  "kernelspec": {
   "display_name": "Python 3",
   "language": "python",
   "name": "python3"
  },
  "language_info": {
   "codemirror_mode": {
    "name": "ipython",
    "version": 3
   },
   "file_extension": ".py",
   "mimetype": "text/x-python",
   "name": "python",
   "nbconvert_exporter": "python",
   "pygments_lexer": "ipython3",
   "version": "3.7.1"
  }
 },
 "nbformat": 4,
 "nbformat_minor": 2
}
