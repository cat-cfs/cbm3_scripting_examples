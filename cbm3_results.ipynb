{
 "cells": [
  {
   "cell_type": "code",
   "execution_count": 1,
   "metadata": {
    "scrolled": true
   },
   "outputs": [],
   "source": [
    "import sys, os, json, subprocess\n",
    "import numpy as np\n",
    "import matplotlib.pyplot as plt\n",
    "import pandas as pd\n",
    "%matplotlib inline"
   ]
  },
  {
   "cell_type": "code",
   "execution_count": 2,
   "metadata": {
    "scrolled": true
   },
   "outputs": [],
   "source": [
    "import cbm3_python_helper\n",
    "cbm3_python_helper.load_cbm3_python()\n",
    "from cbm3_python.cbm3data import cbm3_results\n",
    "from cbm3_python.cbm3data import results_queries"
   ]
  },
  {
   "cell_type": "code",
   "execution_count": 3,
   "metadata": {
    "scrolled": true
   },
   "outputs": [],
   "source": [
    "toolbox_path = r'C:\\Program Files (x86)\\Operational-Scale CBM-CFS3'\n",
    "results_db_path = os.path.join(toolbox_path, \"Tutorials\", \"Tutorial 3\",\"Tutorial3_results.mdb\")"
   ]
  },
  {
   "cell_type": "markdown",
   "metadata": {},
   "source": [
    "## Pool Indicators ##"
   ]
  },
  {
   "cell_type": "code",
   "execution_count": 4,
   "metadata": {
    "scrolled": false
   },
   "outputs": [
    {
     "data": {
      "text/html": [
       "<div>\n",
       "<style scoped>\n",
       "    .dataframe tbody tr th:only-of-type {\n",
       "        vertical-align: middle;\n",
       "    }\n",
       "\n",
       "    .dataframe tbody tr th {\n",
       "        vertical-align: top;\n",
       "    }\n",
       "\n",
       "    .dataframe thead th {\n",
       "        text-align: right;\n",
       "    }\n",
       "</style>\n",
       "<table border=\"1\" class=\"dataframe\">\n",
       "  <thead>\n",
       "    <tr style=\"text-align: right;\">\n",
       "      <th></th>\n",
       "      <th>TimeStep</th>\n",
       "      <th>Aboveground Very Fast DOM</th>\n",
       "      <th>Belowground Very Fast DOM</th>\n",
       "      <th>Aboveground Fast DOM</th>\n",
       "      <th>Belowground Fast DOM</th>\n",
       "      <th>Medium DOM</th>\n",
       "      <th>Aboveground Slow DOM</th>\n",
       "      <th>Belowground Slow DOM</th>\n",
       "      <th>Softwood Stem Snag</th>\n",
       "      <th>Softwood Branch Snag</th>\n",
       "      <th>...</th>\n",
       "      <th>Total Biomass</th>\n",
       "      <th>Aboveground Biomass</th>\n",
       "      <th>Belowground Biomass</th>\n",
       "      <th>Total Ecosystem</th>\n",
       "      <th>Dead Organic Matter</th>\n",
       "      <th>Aboveground DOM</th>\n",
       "      <th>Belowground DOM</th>\n",
       "      <th>Deadwood</th>\n",
       "      <th>Litter</th>\n",
       "      <th>Soil C</th>\n",
       "    </tr>\n",
       "  </thead>\n",
       "  <tbody>\n",
       "    <tr>\n",
       "      <th>0</th>\n",
       "      <td>0</td>\n",
       "      <td>742340.4375</td>\n",
       "      <td>209286.515625</td>\n",
       "      <td>871062.7500</td>\n",
       "      <td>148659.031250</td>\n",
       "      <td>1213109.250</td>\n",
       "      <td>2925438.75</td>\n",
       "      <td>8104824.5</td>\n",
       "      <td>843904.2500</td>\n",
       "      <td>165646.062500</td>\n",
       "      <td>...</td>\n",
       "      <td>7.157872e+06</td>\n",
       "      <td>5.857483e+06</td>\n",
       "      <td>1.300389e+06</td>\n",
       "      <td>2.238214e+07</td>\n",
       "      <td>15224272.0</td>\n",
       "      <td>6761501.0</td>\n",
       "      <td>8462770.0</td>\n",
       "      <td>2371318.50</td>\n",
       "      <td>4538842.0</td>\n",
       "      <td>16418936.0</td>\n",
       "    </tr>\n",
       "    <tr>\n",
       "      <th>1</th>\n",
       "      <td>1</td>\n",
       "      <td>754073.2500</td>\n",
       "      <td>209609.609375</td>\n",
       "      <td>901249.1875</td>\n",
       "      <td>153182.140625</td>\n",
       "      <td>1224529.250</td>\n",
       "      <td>2935484.00</td>\n",
       "      <td>8112493.5</td>\n",
       "      <td>818956.4375</td>\n",
       "      <td>157747.296875</td>\n",
       "      <td>...</td>\n",
       "      <td>7.103509e+06</td>\n",
       "      <td>5.813018e+06</td>\n",
       "      <td>1.290491e+06</td>\n",
       "      <td>2.237083e+07</td>\n",
       "      <td>15267324.0</td>\n",
       "      <td>6792040.0</td>\n",
       "      <td>8475285.0</td>\n",
       "      <td>2354415.00</td>\n",
       "      <td>4590806.5</td>\n",
       "      <td>16434596.0</td>\n",
       "    </tr>\n",
       "    <tr>\n",
       "      <th>2</th>\n",
       "      <td>2</td>\n",
       "      <td>763041.6250</td>\n",
       "      <td>209433.250000</td>\n",
       "      <td>927793.3750</td>\n",
       "      <td>157240.437500</td>\n",
       "      <td>1234921.250</td>\n",
       "      <td>2946065.00</td>\n",
       "      <td>8120250.0</td>\n",
       "      <td>794930.1875</td>\n",
       "      <td>150816.343750</td>\n",
       "      <td>...</td>\n",
       "      <td>7.049174e+06</td>\n",
       "      <td>5.768554e+06</td>\n",
       "      <td>1.280620e+06</td>\n",
       "      <td>2.235367e+07</td>\n",
       "      <td>15304491.0</td>\n",
       "      <td>6817567.5</td>\n",
       "      <td>8486924.0</td>\n",
       "      <td>2337908.25</td>\n",
       "      <td>4636900.0</td>\n",
       "      <td>16449933.0</td>\n",
       "    </tr>\n",
       "    <tr>\n",
       "      <th>3</th>\n",
       "      <td>3</td>\n",
       "      <td>769695.3750</td>\n",
       "      <td>208899.125000</td>\n",
       "      <td>951101.5000</td>\n",
       "      <td>160889.281250</td>\n",
       "      <td>1244336.625</td>\n",
       "      <td>2957048.50</td>\n",
       "      <td>8128067.5</td>\n",
       "      <td>771786.6250</td>\n",
       "      <td>144720.359375</td>\n",
       "      <td>...</td>\n",
       "      <td>6.994843e+06</td>\n",
       "      <td>5.724094e+06</td>\n",
       "      <td>1.270749e+06</td>\n",
       "      <td>2.233139e+07</td>\n",
       "      <td>15336545.0</td>\n",
       "      <td>6838689.0</td>\n",
       "      <td>8497856.0</td>\n",
       "      <td>2321732.75</td>\n",
       "      <td>4677845.5</td>\n",
       "      <td>16465034.0</td>\n",
       "    </tr>\n",
       "    <tr>\n",
       "      <th>4</th>\n",
       "      <td>4</td>\n",
       "      <td>774413.1250</td>\n",
       "      <td>208110.937500</td>\n",
       "      <td>971518.8750</td>\n",
       "      <td>164162.484375</td>\n",
       "      <td>1252823.500</td>\n",
       "      <td>2968319.00</td>\n",
       "      <td>8135923.0</td>\n",
       "      <td>749488.6250</td>\n",
       "      <td>139344.875000</td>\n",
       "      <td>...</td>\n",
       "      <td>6.940518e+06</td>\n",
       "      <td>5.679638e+06</td>\n",
       "      <td>1.260880e+06</td>\n",
       "      <td>2.230462e+07</td>\n",
       "      <td>15364105.0</td>\n",
       "      <td>6855908.0</td>\n",
       "      <td>8508196.0</td>\n",
       "      <td>2305819.50</td>\n",
       "      <td>4714251.0</td>\n",
       "      <td>16479957.0</td>\n",
       "    </tr>\n",
       "  </tbody>\n",
       "</table>\n",
       "<p>5 rows × 34 columns</p>\n",
       "</div>"
      ],
      "text/plain": [
       "   TimeStep  Aboveground Very Fast DOM  Belowground Very Fast DOM  \\\n",
       "0         0                742340.4375              209286.515625   \n",
       "1         1                754073.2500              209609.609375   \n",
       "2         2                763041.6250              209433.250000   \n",
       "3         3                769695.3750              208899.125000   \n",
       "4         4                774413.1250              208110.937500   \n",
       "\n",
       "   Aboveground Fast DOM  Belowground Fast DOM   Medium DOM  \\\n",
       "0           871062.7500         148659.031250  1213109.250   \n",
       "1           901249.1875         153182.140625  1224529.250   \n",
       "2           927793.3750         157240.437500  1234921.250   \n",
       "3           951101.5000         160889.281250  1244336.625   \n",
       "4           971518.8750         164162.484375  1252823.500   \n",
       "\n",
       "   Aboveground Slow DOM  Belowground Slow DOM  Softwood Stem Snag  \\\n",
       "0            2925438.75             8104824.5         843904.2500   \n",
       "1            2935484.00             8112493.5         818956.4375   \n",
       "2            2946065.00             8120250.0         794930.1875   \n",
       "3            2957048.50             8128067.5         771786.6250   \n",
       "4            2968319.00             8135923.0         749488.6250   \n",
       "\n",
       "   Softwood Branch Snag  ...  Total Biomass  Aboveground Biomass  \\\n",
       "0         165646.062500  ...   7.157872e+06         5.857483e+06   \n",
       "1         157747.296875  ...   7.103509e+06         5.813018e+06   \n",
       "2         150816.343750  ...   7.049174e+06         5.768554e+06   \n",
       "3         144720.359375  ...   6.994843e+06         5.724094e+06   \n",
       "4         139344.875000  ...   6.940518e+06         5.679638e+06   \n",
       "\n",
       "   Belowground Biomass  Total Ecosystem  Dead Organic Matter  Aboveground DOM  \\\n",
       "0         1.300389e+06     2.238214e+07           15224272.0        6761501.0   \n",
       "1         1.290491e+06     2.237083e+07           15267324.0        6792040.0   \n",
       "2         1.280620e+06     2.235367e+07           15304491.0        6817567.5   \n",
       "3         1.270749e+06     2.233139e+07           15336545.0        6838689.0   \n",
       "4         1.260880e+06     2.230462e+07           15364105.0        6855908.0   \n",
       "\n",
       "   Belowground DOM    Deadwood     Litter      Soil C  \n",
       "0        8462770.0  2371318.50  4538842.0  16418936.0  \n",
       "1        8475285.0  2354415.00  4590806.5  16434596.0  \n",
       "2        8486924.0  2337908.25  4636900.0  16449933.0  \n",
       "3        8497856.0  2321732.75  4677845.5  16465034.0  \n",
       "4        8508196.0  2305819.50  4714251.0  16479957.0  \n",
       "\n",
       "[5 rows x 34 columns]"
      ]
     },
     "execution_count": 4,
     "metadata": {},
     "output_type": "execute_result"
    }
   ],
   "source": [
    "pool_indicators = cbm3_results.load_pool_indicators(results_db_path)\n",
    "pool_indicators.head()"
   ]
  },
  {
   "cell_type": "markdown",
   "metadata": {},
   "source": [
    "# Stock Changes #"
   ]
  },
  {
   "cell_type": "code",
   "execution_count": 5,
   "metadata": {
    "scrolled": true
   },
   "outputs": [
    {
     "data": {
      "text/html": [
       "<div>\n",
       "<style scoped>\n",
       "    .dataframe tbody tr th:only-of-type {\n",
       "        vertical-align: middle;\n",
       "    }\n",
       "\n",
       "    .dataframe tbody tr th {\n",
       "        vertical-align: top;\n",
       "    }\n",
       "\n",
       "    .dataframe thead th {\n",
       "        text-align: right;\n",
       "    }\n",
       "</style>\n",
       "<table border=\"1\" class=\"dataframe\">\n",
       "  <thead>\n",
       "    <tr style=\"text-align: right;\">\n",
       "      <th></th>\n",
       "      <th>TimeStep</th>\n",
       "      <th>Delta Total Ecosystem</th>\n",
       "      <th>Delta Total Biomass</th>\n",
       "      <th>Delta Total DOM</th>\n",
       "      <th>Net Primary Productivity (NPP)</th>\n",
       "      <th>Net Ecosystem Productivity (NEP)</th>\n",
       "      <th>Net Growth</th>\n",
       "      <th>Net Litterfall</th>\n",
       "      <th>Total Litterfall</th>\n",
       "      <th>Decomposition Releases</th>\n",
       "      <th>...</th>\n",
       "      <th>Total CH4 Emissions</th>\n",
       "      <th>Bio CO2 Emissions</th>\n",
       "      <th>Bio CO Emissions</th>\n",
       "      <th>Bio CH4 Emissions</th>\n",
       "      <th>DOM CO2 Emissions</th>\n",
       "      <th>DOM CO Emissions</th>\n",
       "      <th>DOM CH4 Emissions</th>\n",
       "      <th>Disturbance Losses</th>\n",
       "      <th>Bio To Soil from Disturbances</th>\n",
       "      <th>Net Biome Productivity (NBP)</th>\n",
       "    </tr>\n",
       "  </thead>\n",
       "  <tbody>\n",
       "    <tr>\n",
       "      <th>0</th>\n",
       "      <td>1</td>\n",
       "      <td>-11300.964855</td>\n",
       "      <td>-54355.008805</td>\n",
       "      <td>-362172.414125</td>\n",
       "      <td>391109.260785</td>\n",
       "      <td>39219.604485</td>\n",
       "      <td>53780.979495</td>\n",
       "      <td>-14561.42188</td>\n",
       "      <td>337328.2813</td>\n",
       "      <td>351889.666543</td>\n",
       "      <td>...</td>\n",
       "      <td>0.0</td>\n",
       "      <td>0.0</td>\n",
       "      <td>0.0</td>\n",
       "      <td>0.0</td>\n",
       "      <td>351889.6563</td>\n",
       "      <td>0.0</td>\n",
       "      <td>0.0</td>\n",
       "      <td>50520.569340</td>\n",
       "      <td>60839.57813</td>\n",
       "      <td>-11300.964855</td>\n",
       "    </tr>\n",
       "    <tr>\n",
       "      <th>1</th>\n",
       "      <td>2</td>\n",
       "      <td>-17168.226073</td>\n",
       "      <td>-54335.097601</td>\n",
       "      <td>-365631.378413</td>\n",
       "      <td>388720.867239</td>\n",
       "      <td>33351.460939</td>\n",
       "      <td>53799.994139</td>\n",
       "      <td>-20448.74023</td>\n",
       "      <td>334920.8750</td>\n",
       "      <td>355369.414510</td>\n",
       "      <td>...</td>\n",
       "      <td>0.0</td>\n",
       "      <td>0.0</td>\n",
       "      <td>0.0</td>\n",
       "      <td>0.0</td>\n",
       "      <td>355369.4063</td>\n",
       "      <td>0.0</td>\n",
       "      <td>0.0</td>\n",
       "      <td>50519.687012</td>\n",
       "      <td>60838.68359</td>\n",
       "      <td>-17168.226073</td>\n",
       "    </tr>\n",
       "    <tr>\n",
       "      <th>2</th>\n",
       "      <td>3</td>\n",
       "      <td>-22278.566677</td>\n",
       "      <td>-54331.445342</td>\n",
       "      <td>-368368.836207</td>\n",
       "      <td>386351.644508</td>\n",
       "      <td>28240.207008</td>\n",
       "      <td>53803.656248</td>\n",
       "      <td>-25563.51758</td>\n",
       "      <td>332548.0000</td>\n",
       "      <td>358111.492156</td>\n",
       "      <td>...</td>\n",
       "      <td>0.0</td>\n",
       "      <td>0.0</td>\n",
       "      <td>0.0</td>\n",
       "      <td>0.0</td>\n",
       "      <td>358111.4375</td>\n",
       "      <td>0.0</td>\n",
       "      <td>0.0</td>\n",
       "      <td>50518.773685</td>\n",
       "      <td>60838.67969</td>\n",
       "      <td>-22278.566677</td>\n",
       "    </tr>\n",
       "    <tr>\n",
       "      <th>3</th>\n",
       "      <td>4</td>\n",
       "      <td>-26765.891886</td>\n",
       "      <td>-54324.447258</td>\n",
       "      <td>-370484.036416</td>\n",
       "      <td>383986.517592</td>\n",
       "      <td>23751.923792</td>\n",
       "      <td>53810.654302</td>\n",
       "      <td>-30058.82227</td>\n",
       "      <td>330175.8750</td>\n",
       "      <td>360234.620649</td>\n",
       "      <td>...</td>\n",
       "      <td>0.0</td>\n",
       "      <td>0.0</td>\n",
       "      <td>0.0</td>\n",
       "      <td>0.0</td>\n",
       "      <td>360234.5938</td>\n",
       "      <td>0.0</td>\n",
       "      <td>0.0</td>\n",
       "      <td>50517.815678</td>\n",
       "      <td>60838.67969</td>\n",
       "      <td>-26765.891886</td>\n",
       "    </tr>\n",
       "    <tr>\n",
       "      <th>4</th>\n",
       "      <td>5</td>\n",
       "      <td>-30724.932372</td>\n",
       "      <td>-54313.020509</td>\n",
       "      <td>-372072.170702</td>\n",
       "      <td>381627.038141</td>\n",
       "      <td>19791.881841</td>\n",
       "      <td>53822.065431</td>\n",
       "      <td>-34030.28125</td>\n",
       "      <td>327804.9688</td>\n",
       "      <td>361835.132362</td>\n",
       "      <td>...</td>\n",
       "      <td>0.0</td>\n",
       "      <td>0.0</td>\n",
       "      <td>0.0</td>\n",
       "      <td>0.0</td>\n",
       "      <td>361835.1563</td>\n",
       "      <td>0.0</td>\n",
       "      <td>0.0</td>\n",
       "      <td>50516.814213</td>\n",
       "      <td>60838.67969</td>\n",
       "      <td>-30724.932372</td>\n",
       "    </tr>\n",
       "  </tbody>\n",
       "</table>\n",
       "<p>5 rows × 57 columns</p>\n",
       "</div>"
      ],
      "text/plain": [
       "   TimeStep  Delta Total Ecosystem  Delta Total Biomass  Delta Total DOM  \\\n",
       "0         1          -11300.964855        -54355.008805   -362172.414125   \n",
       "1         2          -17168.226073        -54335.097601   -365631.378413   \n",
       "2         3          -22278.566677        -54331.445342   -368368.836207   \n",
       "3         4          -26765.891886        -54324.447258   -370484.036416   \n",
       "4         5          -30724.932372        -54313.020509   -372072.170702   \n",
       "\n",
       "   Net Primary Productivity (NPP)  Net Ecosystem Productivity (NEP)  \\\n",
       "0                   391109.260785                      39219.604485   \n",
       "1                   388720.867239                      33351.460939   \n",
       "2                   386351.644508                      28240.207008   \n",
       "3                   383986.517592                      23751.923792   \n",
       "4                   381627.038141                      19791.881841   \n",
       "\n",
       "     Net Growth  Net Litterfall  Total Litterfall  Decomposition Releases  \\\n",
       "0  53780.979495    -14561.42188       337328.2813           351889.666543   \n",
       "1  53799.994139    -20448.74023       334920.8750           355369.414510   \n",
       "2  53803.656248    -25563.51758       332548.0000           358111.492156   \n",
       "3  53810.654302    -30058.82227       330175.8750           360234.620649   \n",
       "4  53822.065431    -34030.28125       327804.9688           361835.132362   \n",
       "\n",
       "   ...  Total CH4 Emissions  Bio CO2 Emissions  Bio CO Emissions  \\\n",
       "0  ...                  0.0                0.0               0.0   \n",
       "1  ...                  0.0                0.0               0.0   \n",
       "2  ...                  0.0                0.0               0.0   \n",
       "3  ...                  0.0                0.0               0.0   \n",
       "4  ...                  0.0                0.0               0.0   \n",
       "\n",
       "   Bio CH4 Emissions  DOM CO2 Emissions  DOM CO Emissions  DOM CH4 Emissions  \\\n",
       "0                0.0        351889.6563               0.0                0.0   \n",
       "1                0.0        355369.4063               0.0                0.0   \n",
       "2                0.0        358111.4375               0.0                0.0   \n",
       "3                0.0        360234.5938               0.0                0.0   \n",
       "4                0.0        361835.1563               0.0                0.0   \n",
       "\n",
       "   Disturbance Losses  Bio To Soil from Disturbances  \\\n",
       "0        50520.569340                    60839.57813   \n",
       "1        50519.687012                    60838.68359   \n",
       "2        50518.773685                    60838.67969   \n",
       "3        50517.815678                    60838.67969   \n",
       "4        50516.814213                    60838.67969   \n",
       "\n",
       "   Net Biome Productivity (NBP)  \n",
       "0                 -11300.964855  \n",
       "1                 -17168.226073  \n",
       "2                 -22278.566677  \n",
       "3                 -26765.891886  \n",
       "4                 -30724.932372  \n",
       "\n",
       "[5 rows x 57 columns]"
      ]
     },
     "execution_count": 5,
     "metadata": {},
     "output_type": "execute_result"
    }
   ],
   "source": [
    "stock_changes = cbm3_results.load_stock_changes(results_db_path)#, land_class_grouping=True)\n",
    "stock_changes.head()"
   ]
  },
  {
   "cell_type": "code",
   "execution_count": 6,
   "metadata": {},
   "outputs": [
    {
     "data": {
      "text/html": [
       "<div>\n",
       "<style scoped>\n",
       "    .dataframe tbody tr th:only-of-type {\n",
       "        vertical-align: middle;\n",
       "    }\n",
       "\n",
       "    .dataframe tbody tr th {\n",
       "        vertical-align: top;\n",
       "    }\n",
       "\n",
       "    .dataframe thead th {\n",
       "        text-align: right;\n",
       "    }\n",
       "</style>\n",
       "<table border=\"1\" class=\"dataframe\">\n",
       "  <thead>\n",
       "    <tr style=\"text-align: right;\">\n",
       "      <th></th>\n",
       "      <th>TimeStep</th>\n",
       "      <th>Area</th>\n",
       "      <th>Average Biomass</th>\n",
       "      <th>Average DOM</th>\n",
       "      <th>Average Age</th>\n",
       "    </tr>\n",
       "  </thead>\n",
       "  <tbody>\n",
       "    <tr>\n",
       "      <th>0</th>\n",
       "      <td>0</td>\n",
       "      <td>201000.0</td>\n",
       "      <td>35.611258</td>\n",
       "      <td>75.742642</td>\n",
       "      <td>101.000000</td>\n",
       "    </tr>\n",
       "    <tr>\n",
       "      <th>1</th>\n",
       "      <td>1</td>\n",
       "      <td>201000.0</td>\n",
       "      <td>35.340837</td>\n",
       "      <td>75.956845</td>\n",
       "      <td>99.995075</td>\n",
       "    </tr>\n",
       "    <tr>\n",
       "      <th>2</th>\n",
       "      <td>2</td>\n",
       "      <td>201000.0</td>\n",
       "      <td>35.070516</td>\n",
       "      <td>76.141756</td>\n",
       "      <td>99.000249</td>\n",
       "    </tr>\n",
       "    <tr>\n",
       "      <th>3</th>\n",
       "      <td>3</td>\n",
       "      <td>201000.0</td>\n",
       "      <td>34.800211</td>\n",
       "      <td>76.301217</td>\n",
       "      <td>98.015522</td>\n",
       "    </tr>\n",
       "    <tr>\n",
       "      <th>4</th>\n",
       "      <td>4</td>\n",
       "      <td>201000.0</td>\n",
       "      <td>34.529942</td>\n",
       "      <td>76.438326</td>\n",
       "      <td>97.040895</td>\n",
       "    </tr>\n",
       "  </tbody>\n",
       "</table>\n",
       "</div>"
      ],
      "text/plain": [
       "   TimeStep      Area  Average Biomass  Average DOM  Average Age\n",
       "0         0  201000.0        35.611258    75.742642   101.000000\n",
       "1         1  201000.0        35.340837    75.956845    99.995075\n",
       "2         2  201000.0        35.070516    76.141756    99.000249\n",
       "3         3  201000.0        34.800211    76.301217    98.015522\n",
       "4         4  201000.0        34.529942    76.438326    97.040895"
      ]
     },
     "execution_count": 6,
     "metadata": {},
     "output_type": "execute_result"
    }
   ],
   "source": [
    "age_indicators = cbm3_results.load_age_indicators(results_db_path)\n",
    "age_indicators.head()"
   ]
  },
  {
   "cell_type": "code",
   "execution_count": 7,
   "metadata": {
    "scrolled": true
   },
   "outputs": [
    {
     "data": {
      "text/html": [
       "<div>\n",
       "<style scoped>\n",
       "    .dataframe tbody tr th:only-of-type {\n",
       "        vertical-align: middle;\n",
       "    }\n",
       "\n",
       "    .dataframe tbody tr th {\n",
       "        vertical-align: top;\n",
       "    }\n",
       "\n",
       "    .dataframe thead th {\n",
       "        text-align: right;\n",
       "    }\n",
       "</style>\n",
       "<table border=\"1\" class=\"dataframe\">\n",
       "  <thead>\n",
       "    <tr style=\"text-align: right;\">\n",
       "      <th></th>\n",
       "      <th>TimeStep</th>\n",
       "      <th>DistTypeID</th>\n",
       "      <th>Area</th>\n",
       "      <th>Product</th>\n",
       "    </tr>\n",
       "  </thead>\n",
       "  <tbody>\n",
       "    <tr>\n",
       "      <th>0</th>\n",
       "      <td>1</td>\n",
       "      <td>0</td>\n",
       "      <td>201000.0</td>\n",
       "      <td>0.00000</td>\n",
       "    </tr>\n",
       "    <tr>\n",
       "      <th>1</th>\n",
       "      <td>1</td>\n",
       "      <td>4</td>\n",
       "      <td>2010.0</td>\n",
       "      <td>50520.57031</td>\n",
       "    </tr>\n",
       "    <tr>\n",
       "      <th>2</th>\n",
       "      <td>2</td>\n",
       "      <td>0</td>\n",
       "      <td>201000.0</td>\n",
       "      <td>0.00000</td>\n",
       "    </tr>\n",
       "    <tr>\n",
       "      <th>3</th>\n",
       "      <td>2</td>\n",
       "      <td>4</td>\n",
       "      <td>2010.0</td>\n",
       "      <td>50519.69531</td>\n",
       "    </tr>\n",
       "    <tr>\n",
       "      <th>4</th>\n",
       "      <td>3</td>\n",
       "      <td>0</td>\n",
       "      <td>201000.0</td>\n",
       "      <td>0.00000</td>\n",
       "    </tr>\n",
       "  </tbody>\n",
       "</table>\n",
       "</div>"
      ],
      "text/plain": [
       "   TimeStep  DistTypeID      Area      Product\n",
       "0         1           0  201000.0      0.00000\n",
       "1         1           4    2010.0  50520.57031\n",
       "2         2           0  201000.0      0.00000\n",
       "3         2           4    2010.0  50519.69531\n",
       "4         3           0  201000.0      0.00000"
      ]
     },
     "execution_count": 7,
     "metadata": {},
     "output_type": "execute_result"
    }
   ],
   "source": [
    "dist_indicators = cbm3_results.load_disturbance_indicators(\n",
    "    results_db_path, \n",
    "    disturbance_type_grouping=True)\n",
    "\n",
    "dist_indicators.head()\n"
   ]
  },
  {
   "cell_type": "code",
   "execution_count": 8,
   "metadata": {},
   "outputs": [
    {
     "data": {
      "text/plain": [
       "<matplotlib.axes._subplots.AxesSubplot at 0xffdecf8>"
      ]
     },
     "execution_count": 8,
     "metadata": {},
     "output_type": "execute_result"
    },
    {
     "data": {
      "image/png": "[encoded data removed]",
      "text/plain": [
       "<Figure size 432x288 with 1 Axes>"
      ]
     },
     "metadata": {
      "needs_background": "light"
     },
     "output_type": "display_data"
    }
   ],
   "source": [
    "disturbances = dist_indicators[[\"TimeStep\", \"DistTypeID\", \"Product\" ]].loc[dist_indicators[\"DistTypeID\"]!=0]\n",
    "cbm3_results.pivot(disturbances , \"TimeStep\", \"DistTypeID\", ).plot()"
   ]
  },
  {
   "cell_type": "code",
   "execution_count": 9,
   "metadata": {
    "scrolled": false
   },
   "outputs": [
    {
     "data": {
      "text/plain": [
       "<matplotlib.axes._subplots.AxesSubplot at 0x1061ae48>"
      ]
     },
     "execution_count": 9,
     "metadata": {},
     "output_type": "execute_result"
    },
    {
     "data": {
      "image/png": "[encoded data removed]",
      "text/plain": [
       "<Figure size 1080x576 with 1 Axes>"
      ]
     },
     "metadata": {
      "needs_background": "light"
     },
     "output_type": "display_data"
    }
   ],
   "source": [
    "stocks_cols = [\"TimeStep\", \n",
    "               \"Belowground Biomass\", \n",
    "               \"Aboveground Biomass\", \n",
    "               \"Deadwood\", \n",
    "               \"Litter\", \n",
    "               \"Dead Organic Matter\"]\n",
    "#stocks = pool_indicators.loc[pool_indicators[\"LandClassID\"]==0][stocks_cols].groupby(\"TimeStep\").sum()\n",
    "stocks = pool_indicators[stocks_cols].groupby(\"TimeStep\").sum()\n",
    "stocks.plot(figsize=(15,8))\n",
    "\n"
   ]
  },
  {
   "cell_type": "code",
   "execution_count": 10,
   "metadata": {
    "scrolled": true
   },
   "outputs": [
    {
     "data": {
      "text/html": [
       "<div>\n",
       "<style scoped>\n",
       "    .dataframe tbody tr th:only-of-type {\n",
       "        vertical-align: middle;\n",
       "    }\n",
       "\n",
       "    .dataframe tbody tr th {\n",
       "        vertical-align: top;\n",
       "    }\n",
       "\n",
       "    .dataframe thead th {\n",
       "        text-align: right;\n",
       "    }\n",
       "</style>\n",
       "<table border=\"1\" class=\"dataframe\">\n",
       "  <thead>\n",
       "    <tr style=\"text-align: right;\">\n",
       "      <th></th>\n",
       "      <th>Belowground Biomass</th>\n",
       "      <th>Aboveground Biomass</th>\n",
       "      <th>Deadwood</th>\n",
       "      <th>Litter</th>\n",
       "      <th>Dead Organic Matter</th>\n",
       "    </tr>\n",
       "    <tr>\n",
       "      <th>TimeStep</th>\n",
       "      <th></th>\n",
       "      <th></th>\n",
       "      <th></th>\n",
       "      <th></th>\n",
       "      <th></th>\n",
       "    </tr>\n",
       "  </thead>\n",
       "  <tbody>\n",
       "    <tr>\n",
       "      <th>0</th>\n",
       "      <td>1.300389e+06</td>\n",
       "      <td>5.857483e+06</td>\n",
       "      <td>2371318.50</td>\n",
       "      <td>4538842.0</td>\n",
       "      <td>15224272.0</td>\n",
       "    </tr>\n",
       "    <tr>\n",
       "      <th>1</th>\n",
       "      <td>1.290491e+06</td>\n",
       "      <td>5.813018e+06</td>\n",
       "      <td>2354415.00</td>\n",
       "      <td>4590806.5</td>\n",
       "      <td>15267324.0</td>\n",
       "    </tr>\n",
       "    <tr>\n",
       "      <th>2</th>\n",
       "      <td>1.280620e+06</td>\n",
       "      <td>5.768554e+06</td>\n",
       "      <td>2337908.25</td>\n",
       "      <td>4636900.0</td>\n",
       "      <td>15304491.0</td>\n",
       "    </tr>\n",
       "    <tr>\n",
       "      <th>3</th>\n",
       "      <td>1.270749e+06</td>\n",
       "      <td>5.724094e+06</td>\n",
       "      <td>2321732.75</td>\n",
       "      <td>4677845.5</td>\n",
       "      <td>15336545.0</td>\n",
       "    </tr>\n",
       "    <tr>\n",
       "      <th>4</th>\n",
       "      <td>1.260880e+06</td>\n",
       "      <td>5.679638e+06</td>\n",
       "      <td>2305819.50</td>\n",
       "      <td>4714251.0</td>\n",
       "      <td>15364105.0</td>\n",
       "    </tr>\n",
       "  </tbody>\n",
       "</table>\n",
       "</div>"
      ],
      "text/plain": [
       "          Belowground Biomass  Aboveground Biomass    Deadwood     Litter  \\\n",
       "TimeStep                                                                    \n",
       "0                1.300389e+06         5.857483e+06  2371318.50  4538842.0   \n",
       "1                1.290491e+06         5.813018e+06  2354415.00  4590806.5   \n",
       "2                1.280620e+06         5.768554e+06  2337908.25  4636900.0   \n",
       "3                1.270749e+06         5.724094e+06  2321732.75  4677845.5   \n",
       "4                1.260880e+06         5.679638e+06  2305819.50  4714251.0   \n",
       "\n",
       "          Dead Organic Matter  \n",
       "TimeStep                       \n",
       "0                  15224272.0  \n",
       "1                  15267324.0  \n",
       "2                  15304491.0  \n",
       "3                  15336545.0  \n",
       "4                  15364105.0  "
      ]
     },
     "execution_count": 10,
     "metadata": {},
     "output_type": "execute_result"
    }
   ],
   "source": [
    "stocks.head()"
   ]
  },
  {
   "cell_type": "code",
   "execution_count": 11,
   "metadata": {
    "scrolled": false
   },
   "outputs": [
    {
     "data": {
      "text/plain": [
       "<matplotlib.axes._subplots.AxesSubplot at 0x10b493c8>"
      ]
     },
     "execution_count": 11,
     "metadata": {},
     "output_type": "execute_result"
    },
    {
     "data": {
      "image/png": "[encoded data removed]",
      "text/plain": [
       "<Figure size 1080x720 with 1 Axes>"
      ]
     },
     "metadata": {
      "needs_background": "light"
     },
     "output_type": "display_data"
    }
   ],
   "source": [
    "#flux_indicators\n",
    "flux_cols = [\"TimeStep\", \n",
    "             \"Net Primary Productivity (NPP)\",\n",
    "             \"Net Ecosystem Productivity (NEP)\",\n",
    "             \"Net Biome Productivity (NBP)\",\n",
    "             \"Total Litterfall\",\n",
    "             \"Net Growth\",\n",
    "             \"Disturbance Losses\"]\n",
    "flux = stock_changes[flux_cols].groupby(\"TimeStep\").sum()\n",
    "flux.plot(figsize=(15,10))"
   ]
  },
  {
   "cell_type": "code",
   "execution_count": 12,
   "metadata": {
    "scrolled": true
   },
   "outputs": [
    {
     "data": {
      "text/html": [
       "<div>\n",
       "<style scoped>\n",
       "    .dataframe tbody tr th:only-of-type {\n",
       "        vertical-align: middle;\n",
       "    }\n",
       "\n",
       "    .dataframe tbody tr th {\n",
       "        vertical-align: top;\n",
       "    }\n",
       "\n",
       "    .dataframe thead th {\n",
       "        text-align: right;\n",
       "    }\n",
       "</style>\n",
       "<table border=\"1\" class=\"dataframe\">\n",
       "  <thead>\n",
       "    <tr style=\"text-align: right;\">\n",
       "      <th></th>\n",
       "      <th>Net Primary Productivity (NPP)</th>\n",
       "      <th>Net Ecosystem Productivity (NEP)</th>\n",
       "      <th>Net Biome Productivity (NBP)</th>\n",
       "      <th>Total Litterfall</th>\n",
       "      <th>Net Growth</th>\n",
       "      <th>Disturbance Losses</th>\n",
       "    </tr>\n",
       "    <tr>\n",
       "      <th>TimeStep</th>\n",
       "      <th></th>\n",
       "      <th></th>\n",
       "      <th></th>\n",
       "      <th></th>\n",
       "      <th></th>\n",
       "      <th></th>\n",
       "    </tr>\n",
       "  </thead>\n",
       "  <tbody>\n",
       "    <tr>\n",
       "      <th>1</th>\n",
       "      <td>391109.260785</td>\n",
       "      <td>39219.604485</td>\n",
       "      <td>-11300.964855</td>\n",
       "      <td>337328.2813</td>\n",
       "      <td>53780.979495</td>\n",
       "      <td>50520.569340</td>\n",
       "    </tr>\n",
       "    <tr>\n",
       "      <th>2</th>\n",
       "      <td>388720.867239</td>\n",
       "      <td>33351.460939</td>\n",
       "      <td>-17168.226073</td>\n",
       "      <td>334920.8750</td>\n",
       "      <td>53799.994139</td>\n",
       "      <td>50519.687012</td>\n",
       "    </tr>\n",
       "    <tr>\n",
       "      <th>3</th>\n",
       "      <td>386351.644508</td>\n",
       "      <td>28240.207008</td>\n",
       "      <td>-22278.566677</td>\n",
       "      <td>332548.0000</td>\n",
       "      <td>53803.656248</td>\n",
       "      <td>50518.773685</td>\n",
       "    </tr>\n",
       "    <tr>\n",
       "      <th>4</th>\n",
       "      <td>383986.517592</td>\n",
       "      <td>23751.923792</td>\n",
       "      <td>-26765.891886</td>\n",
       "      <td>330175.8750</td>\n",
       "      <td>53810.654302</td>\n",
       "      <td>50517.815678</td>\n",
       "    </tr>\n",
       "    <tr>\n",
       "      <th>5</th>\n",
       "      <td>381627.038141</td>\n",
       "      <td>19791.881841</td>\n",
       "      <td>-30724.932372</td>\n",
       "      <td>327804.9688</td>\n",
       "      <td>53822.065431</td>\n",
       "      <td>50516.814213</td>\n",
       "    </tr>\n",
       "  </tbody>\n",
       "</table>\n",
       "</div>"
      ],
      "text/plain": [
       "          Net Primary Productivity (NPP)  Net Ecosystem Productivity (NEP)  \\\n",
       "TimeStep                                                                     \n",
       "1                          391109.260785                      39219.604485   \n",
       "2                          388720.867239                      33351.460939   \n",
       "3                          386351.644508                      28240.207008   \n",
       "4                          383986.517592                      23751.923792   \n",
       "5                          381627.038141                      19791.881841   \n",
       "\n",
       "          Net Biome Productivity (NBP)  Total Litterfall    Net Growth  \\\n",
       "TimeStep                                                                 \n",
       "1                        -11300.964855       337328.2813  53780.979495   \n",
       "2                        -17168.226073       334920.8750  53799.994139   \n",
       "3                        -22278.566677       332548.0000  53803.656248   \n",
       "4                        -26765.891886       330175.8750  53810.654302   \n",
       "5                        -30724.932372       327804.9688  53822.065431   \n",
       "\n",
       "          Disturbance Losses  \n",
       "TimeStep                      \n",
       "1               50520.569340  \n",
       "2               50519.687012  \n",
       "3               50518.773685  \n",
       "4               50517.815678  \n",
       "5               50516.814213  "
      ]
     },
     "execution_count": 12,
     "metadata": {},
     "output_type": "execute_result"
    }
   ],
   "source": [
    "flux.head()"
   ]
  },
  {
   "cell_type": "code",
   "execution_count": 13,
   "metadata": {
    "scrolled": true
   },
   "outputs": [
    {
     "name": "stdout",
     "output_type": "stream",
     "text": [
      "SELECT \n",
      "tdi.TimeStep,tdi.DistTypeID,tdi.LandClassID,tdi.kf2,tdi.kf3,tdi.kf4,tdi.kf5,tdi.kf6,\n",
      "sum(tdi.DistArea) as [Area],\n",
      "sum(tdi.DistProduct) as [Product]\n",
      "from tblDistindicators tdi\n",
      "group by tdi.TimeStep,tdi.DistTypeID,tdi.LandClassID,tdi.kf2,tdi.kf3,tdi.kf4,tdi.kf5,tdi.kf6\n",
      "order by tdi.TimeStep,tdi.DistTypeID,tdi.LandClassID,tdi.kf2,tdi.kf3,tdi.kf4,tdi.kf5,tdi.kf6\n"
     ]
    }
   ],
   "source": [
    "\n",
    "print(results_queries.get_disturbance_indicators_view_sql(\n",
    "        True, False,\n",
    "        False, True))"
   ]
  },
  {
   "cell_type": "code",
   "execution_count": 14,
   "metadata": {
    "scrolled": true
   },
   "outputs": [
    {
     "data": {
      "text/plain": [
       "<matplotlib.axes._subplots.AxesSubplot at 0x152aa588>"
      ]
     },
     "execution_count": 14,
     "metadata": {},
     "output_type": "execute_result"
    },
    {
     "data": {
      "image/png": "[encoded data removed]",
      "text/plain": [
       "<Figure size 432x288 with 1 Axes>"
      ]
     },
     "metadata": {
      "needs_background": "light"
     },
     "output_type": "display_data"
    }
   ],
   "source": [
    "age_indicators[[\"TimeStep\",\"Average Biomass\", \"Average DOM\", \"Average Age\"]].groupby(\"TimeStep\").sum().plot()"
   ]
  },
  {
   "cell_type": "code",
   "execution_count": 15,
   "metadata": {
    "scrolled": true
   },
   "outputs": [
    {
     "data": {
      "text/plain": [
       "<matplotlib.axes._subplots.AxesSubplot at 0x14fd5d30>"
      ]
     },
     "execution_count": 15,
     "metadata": {},
     "output_type": "execute_result"
    },
    {
     "data": {
      "image/png": "[encoded data removed]",
      "text/plain": [
       "<Figure size 432x288 with 1 Axes>"
      ]
     },
     "metadata": {
      "needs_background": "light"
     },
     "output_type": "display_data"
    }
   ],
   "source": [
    "\n",
    "dist_indicators.loc[dist_indicators[\"DistTypeID\"]!=0][[\"TimeStep\",\"Area\"]].groupby(\"TimeStep\").sum().plot()"
   ]
  },
  {
   "cell_type": "code",
   "execution_count": 16,
   "metadata": {
    "scrolled": false
   },
   "outputs": [
    {
     "data": {
      "text/plain": [
       "<matplotlib.axes._subplots.AxesSubplot at 0x15030320>"
      ]
     },
     "execution_count": 16,
     "metadata": {},
     "output_type": "execute_result"
    },
    {
     "data": {
      "image/png": "[encoded data removed]",
      "text/plain": [
       "<Figure size 432x288 with 1 Axes>"
      ]
     },
     "metadata": {
      "needs_background": "light"
     },
     "output_type": "display_data"
    }
   ],
   "source": [
    "dist_indicators.loc[dist_indicators[\"DistTypeID\"]!=0][[\"TimeStep\",\"Product\"]].groupby(\"TimeStep\").sum().plot()"
   ]
  },
  {
   "cell_type": "code",
   "execution_count": null,
   "metadata": {
    "scrolled": true
   },
   "outputs": [],
   "source": []
  },
  {
   "cell_type": "code",
   "execution_count": null,
   "metadata": {},
   "outputs": [],
   "source": []
  }
 ],
 "metadata": {
  "kernelspec": {
   "display_name": "Python 3",
   "language": "python",
   "name": "python3"
  },
  "language_info": {
   "codemirror_mode": {
    "name": "ipython",
    "version": 3
   },
   "file_extension": ".py",
   "mimetype": "text/x-python",
   "name": "python",
   "nbconvert_exporter": "python",
   "pygments_lexer": "ipython3",
   "version": "3.7.1"
  }
 },
 "nbformat": 4,
 "nbformat_minor": 2
}
